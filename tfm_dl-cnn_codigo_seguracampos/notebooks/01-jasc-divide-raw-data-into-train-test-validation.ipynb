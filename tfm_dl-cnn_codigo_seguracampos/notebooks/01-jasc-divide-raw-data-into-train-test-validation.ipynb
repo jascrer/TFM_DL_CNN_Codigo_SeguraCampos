{
 "cells": [
  {
   "cell_type": "markdown",
   "id": "2421daab",
   "metadata": {},
   "source": [
    "# Import the libraries to use"
   ]
  },
  {
   "cell_type": "code",
   "execution_count": 10,
   "id": "e7ea0ad1",
   "metadata": {},
   "outputs": [],
   "source": [
    "#Import system manupulation libraries\n",
    "import os\n",
    "import shutil\n",
    "\n",
    "#Import data manipulation libraries\n",
    "import numpy as np\n",
    "import pandas as pd"
   ]
  },
  {
   "cell_type": "markdown",
   "id": "c9ed265d",
   "metadata": {},
   "source": [
    "# Load data and Division of data"
   ]
  },
  {
   "cell_type": "code",
   "execution_count": 2,
   "id": "fb2af137",
   "metadata": {},
   "outputs": [
    {
     "data": {
      "text/html": [
       "<div>\n",
       "<style scoped>\n",
       "    .dataframe tbody tr th:only-of-type {\n",
       "        vertical-align: middle;\n",
       "    }\n",
       "\n",
       "    .dataframe tbody tr th {\n",
       "        vertical-align: top;\n",
       "    }\n",
       "\n",
       "    .dataframe thead th {\n",
       "        text-align: right;\n",
       "    }\n",
       "</style>\n",
       "<table border=\"1\" class=\"dataframe\">\n",
       "  <thead>\n",
       "    <tr style=\"text-align: right;\">\n",
       "      <th></th>\n",
       "      <th>id</th>\n",
       "      <th>has_cactus</th>\n",
       "    </tr>\n",
       "  </thead>\n",
       "  <tbody>\n",
       "    <tr>\n",
       "      <th>0</th>\n",
       "      <td>0004be2cfeaba1c0361d39e2b000257b.jpg</td>\n",
       "      <td>1</td>\n",
       "    </tr>\n",
       "    <tr>\n",
       "      <th>1</th>\n",
       "      <td>000c8a36845c0208e833c79c1bffedd1.jpg</td>\n",
       "      <td>1</td>\n",
       "    </tr>\n",
       "    <tr>\n",
       "      <th>2</th>\n",
       "      <td>000d1e9a533f62e55c289303b072733d.jpg</td>\n",
       "      <td>1</td>\n",
       "    </tr>\n",
       "    <tr>\n",
       "      <th>3</th>\n",
       "      <td>0011485b40695e9138e92d0b3fb55128.jpg</td>\n",
       "      <td>1</td>\n",
       "    </tr>\n",
       "    <tr>\n",
       "      <th>4</th>\n",
       "      <td>0014d7a11e90b62848904c1418fc8cf2.jpg</td>\n",
       "      <td>1</td>\n",
       "    </tr>\n",
       "  </tbody>\n",
       "</table>\n",
       "</div>"
      ],
      "text/plain": [
       "                                     id  has_cactus\n",
       "0  0004be2cfeaba1c0361d39e2b000257b.jpg           1\n",
       "1  000c8a36845c0208e833c79c1bffedd1.jpg           1\n",
       "2  000d1e9a533f62e55c289303b072733d.jpg           1\n",
       "3  0011485b40695e9138e92d0b3fb55128.jpg           1\n",
       "4  0014d7a11e90b62848904c1418fc8cf2.jpg           1"
      ]
     },
     "execution_count": 2,
     "metadata": {},
     "output_type": "execute_result"
    }
   ],
   "source": [
    "images_df = pd.read_csv('../data/raw/train.csv')\n",
    "images_df.head()"
   ]
  },
  {
   "cell_type": "markdown",
   "id": "17ed0cb8",
   "metadata": {},
   "source": [
    "## Separation of datasets"
   ]
  },
  {
   "cell_type": "code",
   "execution_count": 3,
   "id": "d42753aa",
   "metadata": {},
   "outputs": [],
   "source": [
    "def separate_dataframes(dataframe, separation_percentage, shuffle=False):\n",
    "    manual_seed = 42\n",
    "    separation_marker = int(len(dataframe) * separation_percentage)\n",
    "    \n",
    "    if shuffle:\n",
    "        dataframe = dataframe.sample(frac=1, random_state = manual_seed)\n",
    "    \n",
    "    first_dataframe = dataframe.iloc[0:separation_marker]\n",
    "    second_dataframe = dataframe.iloc[separation_marker:len(dataframe)]\n",
    "    \n",
    "    return first_dataframe, second_dataframe"
   ]
  },
  {
   "cell_type": "markdown",
   "id": "6fea0068",
   "metadata": {},
   "source": [
    "### Separation of validation and experimental images"
   ]
  },
  {
   "cell_type": "code",
   "execution_count": 4,
   "id": "3e25065d",
   "metadata": {},
   "outputs": [
    {
     "data": {
      "text/plain": [
       "((1750, 2), (15750, 2))"
      ]
     },
     "execution_count": 4,
     "metadata": {},
     "output_type": "execute_result"
    }
   ],
   "source": [
    "validation_images_df, experiment_images_df = separate_dataframes(images_df, 0.1, shuffle=True)\n",
    "validation_images_df.shape, experiment_images_df.shape"
   ]
  },
  {
   "cell_type": "code",
   "execution_count": 5,
   "id": "5de332b6",
   "metadata": {},
   "outputs": [
    {
     "data": {
      "text/html": [
       "<div>\n",
       "<style scoped>\n",
       "    .dataframe tbody tr th:only-of-type {\n",
       "        vertical-align: middle;\n",
       "    }\n",
       "\n",
       "    .dataframe tbody tr th {\n",
       "        vertical-align: top;\n",
       "    }\n",
       "\n",
       "    .dataframe thead th {\n",
       "        text-align: right;\n",
       "    }\n",
       "</style>\n",
       "<table border=\"1\" class=\"dataframe\">\n",
       "  <thead>\n",
       "    <tr style=\"text-align: right;\">\n",
       "      <th></th>\n",
       "      <th>id</th>\n",
       "      <th>has_cactus</th>\n",
       "    </tr>\n",
       "  </thead>\n",
       "  <tbody>\n",
       "    <tr>\n",
       "      <th>8270</th>\n",
       "      <td>76bf341d7df751ef80b909162d14c607.jpg</td>\n",
       "      <td>0</td>\n",
       "    </tr>\n",
       "    <tr>\n",
       "      <th>6827</th>\n",
       "      <td>624ec1063478e4139276c34bef65f1c1.jpg</td>\n",
       "      <td>1</td>\n",
       "    </tr>\n",
       "    <tr>\n",
       "      <th>5714</th>\n",
       "      <td>526e960fe6f98ced0232209623e0a2e6.jpg</td>\n",
       "      <td>1</td>\n",
       "    </tr>\n",
       "    <tr>\n",
       "      <th>10268</th>\n",
       "      <td>93e1cdb4f20c07ae49801e4e40fdfced.jpg</td>\n",
       "      <td>1</td>\n",
       "    </tr>\n",
       "    <tr>\n",
       "      <th>4040</th>\n",
       "      <td>38a695da227092bceca0003c32e0e49e.jpg</td>\n",
       "      <td>1</td>\n",
       "    </tr>\n",
       "  </tbody>\n",
       "</table>\n",
       "</div>"
      ],
      "text/plain": [
       "                                         id  has_cactus\n",
       "8270   76bf341d7df751ef80b909162d14c607.jpg           0\n",
       "6827   624ec1063478e4139276c34bef65f1c1.jpg           1\n",
       "5714   526e960fe6f98ced0232209623e0a2e6.jpg           1\n",
       "10268  93e1cdb4f20c07ae49801e4e40fdfced.jpg           1\n",
       "4040   38a695da227092bceca0003c32e0e49e.jpg           1"
      ]
     },
     "execution_count": 5,
     "metadata": {},
     "output_type": "execute_result"
    }
   ],
   "source": [
    "experiment_images_df.head()"
   ]
  },
  {
   "cell_type": "code",
   "execution_count": 6,
   "id": "d79b869c",
   "metadata": {},
   "outputs": [
    {
     "data": {
      "text/html": [
       "<div>\n",
       "<style scoped>\n",
       "    .dataframe tbody tr th:only-of-type {\n",
       "        vertical-align: middle;\n",
       "    }\n",
       "\n",
       "    .dataframe tbody tr th {\n",
       "        vertical-align: top;\n",
       "    }\n",
       "\n",
       "    .dataframe thead th {\n",
       "        text-align: right;\n",
       "    }\n",
       "</style>\n",
       "<table border=\"1\" class=\"dataframe\">\n",
       "  <thead>\n",
       "    <tr style=\"text-align: right;\">\n",
       "      <th></th>\n",
       "      <th>id</th>\n",
       "      <th>has_cactus</th>\n",
       "    </tr>\n",
       "  </thead>\n",
       "  <tbody>\n",
       "    <tr>\n",
       "      <th>1411</th>\n",
       "      <td>13f46a0f794649dad695a7e411bc8cd6.jpg</td>\n",
       "      <td>0</td>\n",
       "    </tr>\n",
       "    <tr>\n",
       "      <th>7555</th>\n",
       "      <td>6cab3d7c31c2ce21c3b404892657ecb7.jpg</td>\n",
       "      <td>0</td>\n",
       "    </tr>\n",
       "    <tr>\n",
       "      <th>4930</th>\n",
       "      <td>46a1b5d08220741fc8a4a53e1069df6a.jpg</td>\n",
       "      <td>0</td>\n",
       "    </tr>\n",
       "    <tr>\n",
       "      <th>10054</th>\n",
       "      <td>90dcaf29c59df190744450761c5eae9b.jpg</td>\n",
       "      <td>1</td>\n",
       "    </tr>\n",
       "    <tr>\n",
       "      <th>2714</th>\n",
       "      <td>26142c37accad5e00f8b55d7cb8f9fb7.jpg</td>\n",
       "      <td>1</td>\n",
       "    </tr>\n",
       "  </tbody>\n",
       "</table>\n",
       "</div>"
      ],
      "text/plain": [
       "                                         id  has_cactus\n",
       "1411   13f46a0f794649dad695a7e411bc8cd6.jpg           0\n",
       "7555   6cab3d7c31c2ce21c3b404892657ecb7.jpg           0\n",
       "4930   46a1b5d08220741fc8a4a53e1069df6a.jpg           0\n",
       "10054  90dcaf29c59df190744450761c5eae9b.jpg           1\n",
       "2714   26142c37accad5e00f8b55d7cb8f9fb7.jpg           1"
      ]
     },
     "execution_count": 6,
     "metadata": {},
     "output_type": "execute_result"
    }
   ],
   "source": [
    "validation_images_df.head()"
   ]
  },
  {
   "cell_type": "markdown",
   "id": "5a9b8176",
   "metadata": {},
   "source": [
    "### Separation of training and test images"
   ]
  },
  {
   "cell_type": "code",
   "execution_count": 7,
   "id": "f57b61dd",
   "metadata": {},
   "outputs": [
    {
     "data": {
      "text/plain": [
       "((3150, 2), (12600, 2))"
      ]
     },
     "execution_count": 7,
     "metadata": {},
     "output_type": "execute_result"
    }
   ],
   "source": [
    "test_df, train_df = separate_dataframes(experiment_images_df, 0.2)\n",
    "test_df.shape, train_df.shape"
   ]
  },
  {
   "cell_type": "code",
   "execution_count": 8,
   "id": "2d98b7f4",
   "metadata": {
    "scrolled": true
   },
   "outputs": [
    {
     "data": {
      "text/html": [
       "<div>\n",
       "<style scoped>\n",
       "    .dataframe tbody tr th:only-of-type {\n",
       "        vertical-align: middle;\n",
       "    }\n",
       "\n",
       "    .dataframe tbody tr th {\n",
       "        vertical-align: top;\n",
       "    }\n",
       "\n",
       "    .dataframe thead th {\n",
       "        text-align: right;\n",
       "    }\n",
       "</style>\n",
       "<table border=\"1\" class=\"dataframe\">\n",
       "  <thead>\n",
       "    <tr style=\"text-align: right;\">\n",
       "      <th></th>\n",
       "      <th>id</th>\n",
       "      <th>has_cactus</th>\n",
       "    </tr>\n",
       "  </thead>\n",
       "  <tbody>\n",
       "    <tr>\n",
       "      <th>8270</th>\n",
       "      <td>76bf341d7df751ef80b909162d14c607.jpg</td>\n",
       "      <td>0</td>\n",
       "    </tr>\n",
       "    <tr>\n",
       "      <th>6827</th>\n",
       "      <td>624ec1063478e4139276c34bef65f1c1.jpg</td>\n",
       "      <td>1</td>\n",
       "    </tr>\n",
       "    <tr>\n",
       "      <th>5714</th>\n",
       "      <td>526e960fe6f98ced0232209623e0a2e6.jpg</td>\n",
       "      <td>1</td>\n",
       "    </tr>\n",
       "    <tr>\n",
       "      <th>10268</th>\n",
       "      <td>93e1cdb4f20c07ae49801e4e40fdfced.jpg</td>\n",
       "      <td>1</td>\n",
       "    </tr>\n",
       "    <tr>\n",
       "      <th>4040</th>\n",
       "      <td>38a695da227092bceca0003c32e0e49e.jpg</td>\n",
       "      <td>1</td>\n",
       "    </tr>\n",
       "  </tbody>\n",
       "</table>\n",
       "</div>"
      ],
      "text/plain": [
       "                                         id  has_cactus\n",
       "8270   76bf341d7df751ef80b909162d14c607.jpg           0\n",
       "6827   624ec1063478e4139276c34bef65f1c1.jpg           1\n",
       "5714   526e960fe6f98ced0232209623e0a2e6.jpg           1\n",
       "10268  93e1cdb4f20c07ae49801e4e40fdfced.jpg           1\n",
       "4040   38a695da227092bceca0003c32e0e49e.jpg           1"
      ]
     },
     "execution_count": 8,
     "metadata": {},
     "output_type": "execute_result"
    }
   ],
   "source": [
    "test_df.head()"
   ]
  },
  {
   "cell_type": "code",
   "execution_count": 9,
   "id": "c28bd9cc",
   "metadata": {},
   "outputs": [
    {
     "data": {
      "text/html": [
       "<div>\n",
       "<style scoped>\n",
       "    .dataframe tbody tr th:only-of-type {\n",
       "        vertical-align: middle;\n",
       "    }\n",
       "\n",
       "    .dataframe tbody tr th {\n",
       "        vertical-align: top;\n",
       "    }\n",
       "\n",
       "    .dataframe thead th {\n",
       "        text-align: right;\n",
       "    }\n",
       "</style>\n",
       "<table border=\"1\" class=\"dataframe\">\n",
       "  <thead>\n",
       "    <tr style=\"text-align: right;\">\n",
       "      <th></th>\n",
       "      <th>id</th>\n",
       "      <th>has_cactus</th>\n",
       "    </tr>\n",
       "  </thead>\n",
       "  <tbody>\n",
       "    <tr>\n",
       "      <th>1801</th>\n",
       "      <td>1937d8278a8c1c58b30898c8d1ea6685.jpg</td>\n",
       "      <td>1</td>\n",
       "    </tr>\n",
       "    <tr>\n",
       "      <th>4756</th>\n",
       "      <td>43f3e47323b9c6df111abf570872980f.jpg</td>\n",
       "      <td>1</td>\n",
       "    </tr>\n",
       "    <tr>\n",
       "      <th>16222</th>\n",
       "      <td>ecc886298e55127281cca7de6a12a6b9.jpg</td>\n",
       "      <td>1</td>\n",
       "    </tr>\n",
       "    <tr>\n",
       "      <th>15119</th>\n",
       "      <td>dc6bf70a7d30760d559477973d525915.jpg</td>\n",
       "      <td>1</td>\n",
       "    </tr>\n",
       "    <tr>\n",
       "      <th>530</th>\n",
       "      <td>07ba973d4f1a3f7ace8df35caaec3085.jpg</td>\n",
       "      <td>0</td>\n",
       "    </tr>\n",
       "  </tbody>\n",
       "</table>\n",
       "</div>"
      ],
      "text/plain": [
       "                                         id  has_cactus\n",
       "1801   1937d8278a8c1c58b30898c8d1ea6685.jpg           1\n",
       "4756   43f3e47323b9c6df111abf570872980f.jpg           1\n",
       "16222  ecc886298e55127281cca7de6a12a6b9.jpg           1\n",
       "15119  dc6bf70a7d30760d559477973d525915.jpg           1\n",
       "530    07ba973d4f1a3f7ace8df35caaec3085.jpg           0"
      ]
     },
     "execution_count": 9,
     "metadata": {},
     "output_type": "execute_result"
    }
   ],
   "source": [
    "train_df.head()"
   ]
  },
  {
   "cell_type": "markdown",
   "id": "8f96a5d6",
   "metadata": {},
   "source": [
    "# Export images by category"
   ]
  },
  {
   "cell_type": "code",
   "execution_count": 42,
   "id": "abcdd337",
   "metadata": {},
   "outputs": [],
   "source": [
    "def export_images(dataset, original_path, new_path, flag=None):\n",
    "    if flag is not None:\n",
    "        category1_path = os.path.join(new_path, 'has_cactus')\n",
    "        os.makedirs(category1_path)\n",
    "        print(f'Dif: {category1_path} created.')\n",
    "        category2_path = os.path.join(new_path, 'no_cactus')\n",
    "        os.makedirs(category2_path)\n",
    "        print(f'Dif: {category2_path} created.')\n",
    "    for row in dataset.itertuples(index=False):\n",
    "        if flag is None:\n",
    "            shutil.copyfile(os.path.join(original_path, row[0]), os.path.join(new_path, row[0]))\n",
    "        elif row[1] == flag:\n",
    "            shutil.copyfile(os.path.join(original_path, row[0]), os.path.join(category1_path, row[0]))\n",
    "        else:\n",
    "            shutil.copyfile(os.path.join(original_path, row[0]), os.path.join(category2_path, row[0]))"
   ]
  },
  {
   "cell_type": "code",
   "execution_count": 37,
   "id": "eeb78056",
   "metadata": {},
   "outputs": [],
   "source": [
    "original_path = '/home/jascrer/TFM/TFM_DL_CNN_Codigo_SeguraCampos/tfm_dl-cnn_codigo_seguracampos/data/raw/train/'\n",
    "new_val_path = '/home/jascrer/TFM/TFM_DL_CNN_Codigo_SeguraCampos/tfm_dl-cnn_codigo_seguracampos/data/interim/validation'\n",
    "new_test_path = '/home/jascrer/TFM/TFM_DL_CNN_Codigo_SeguraCampos/tfm_dl-cnn_codigo_seguracampos/data/interim/experiment/test/'\n",
    "new_train_path = '/home/jascrer/TFM/TFM_DL_CNN_Codigo_SeguraCampos/tfm_dl-cnn_codigo_seguracampos/data/interim/experiment/train/'"
   ]
  },
  {
   "cell_type": "markdown",
   "id": "74920234",
   "metadata": {},
   "source": [
    "## Validation Images Export"
   ]
  },
  {
   "cell_type": "code",
   "execution_count": 39,
   "id": "2e346eab",
   "metadata": {},
   "outputs": [
    {
     "name": "stdout",
     "output_type": "stream",
     "text": [
      "Validation export lasted: 11.698983907699585 seconds.\n"
     ]
    }
   ],
   "source": [
    "import time\n",
    "start_time = time.time()\n",
    "\n",
    "os.makedirs(new_val_path)\n",
    "export_images(validation_images_df, original_path, new_val_path)\n",
    "\n",
    "finish_time = time.time()\n",
    "print(f'Validation export lasted: {finish_time-start_time} seconds.')"
   ]
  },
  {
   "cell_type": "markdown",
   "id": "866ea2bb",
   "metadata": {},
   "source": [
    "## Experiment Images Export"
   ]
  },
  {
   "cell_type": "markdown",
   "id": "672dd00a",
   "metadata": {},
   "source": [
    "### Training Images Export"
   ]
  },
  {
   "cell_type": "code",
   "execution_count": 44,
   "id": "455dffa7",
   "metadata": {},
   "outputs": [
    {
     "name": "stdout",
     "output_type": "stream",
     "text": [
      "Dif: /home/jascrer/TFM/TFM_DL_CNN_Codigo_SeguraCampos/tfm_dl-cnn_codigo_seguracampos/data/interim/experiment/train/has_cactus created.\n",
      "Dif: /home/jascrer/TFM/TFM_DL_CNN_Codigo_SeguraCampos/tfm_dl-cnn_codigo_seguracampos/data/interim/experiment/train/no_cactus created.\n",
      "Validation export lasted: 0.8234012126922607 seconds.\n"
     ]
    }
   ],
   "source": [
    "import time\n",
    "start_time = time.time()\n",
    "\n",
    "os.makedirs(new_train_path)\n",
    "export_images(train_df, original_path, new_train_path, flag=1)\n",
    "\n",
    "finish_time = time.time()\n",
    "print(f'Validation export lasted: {finish_time-start_time} seconds.')"
   ]
  },
  {
   "cell_type": "markdown",
   "id": "88c3e89d",
   "metadata": {},
   "source": [
    "### Test Images Export"
   ]
  },
  {
   "cell_type": "code",
   "execution_count": 45,
   "id": "982c2ee6",
   "metadata": {},
   "outputs": [
    {
     "name": "stdout",
     "output_type": "stream",
     "text": [
      "Dif: /home/jascrer/TFM/TFM_DL_CNN_Codigo_SeguraCampos/tfm_dl-cnn_codigo_seguracampos/data/interim/experiment/test/has_cactus created.\n",
      "Dif: /home/jascrer/TFM/TFM_DL_CNN_Codigo_SeguraCampos/tfm_dl-cnn_codigo_seguracampos/data/interim/experiment/test/no_cactus created.\n",
      "Validation export lasted: 21.048335552215576 seconds.\n"
     ]
    }
   ],
   "source": [
    "import time\n",
    "start_time = time.time()\n",
    "\n",
    "os.makedirs(new_test_path)\n",
    "export_images(test_df, original_path, new_test_path, flag=1)\n",
    "\n",
    "finish_time = time.time()\n",
    "print(f'Validation export lasted: {finish_time-start_time} seconds.')"
   ]
  },
  {
   "cell_type": "code",
   "execution_count": null,
   "id": "e477351c",
   "metadata": {},
   "outputs": [],
   "source": []
  }
 ],
 "metadata": {
  "kernelspec": {
   "display_name": "Python 3 (ipykernel)",
   "language": "python",
   "name": "python3"
  },
  "language_info": {
   "codemirror_mode": {
    "name": "ipython",
    "version": 3
   },
   "file_extension": ".py",
   "mimetype": "text/x-python",
   "name": "python",
   "nbconvert_exporter": "python",
   "pygments_lexer": "ipython3",
   "version": "3.9.7"
  }
 },
 "nbformat": 4,
 "nbformat_minor": 5
}
