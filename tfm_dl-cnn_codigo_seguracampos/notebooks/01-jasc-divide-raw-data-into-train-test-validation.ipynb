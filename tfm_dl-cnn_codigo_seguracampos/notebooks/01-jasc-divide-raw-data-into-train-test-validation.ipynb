{
 "cells": [
  {
   "cell_type": "markdown",
   "id": "2421daab",
   "metadata": {},
   "source": [
    "# Import the libraries to use"
   ]
  },
  {
   "cell_type": "code",
   "execution_count": 1,
   "id": "e7ea0ad1",
   "metadata": {},
   "outputs": [],
   "source": [
    "#Import system manupulation libraries\n",
    "import os\n",
    "import shutil\n",
    "\n",
    "#Import data manipulation libraries\n",
    "import numpy as np\n",
    "import pandas as pd"
   ]
  },
  {
   "cell_type": "markdown",
   "id": "c9ed265d",
   "metadata": {},
   "source": [
    "# Division of data\n",
    "The data that will be used in the experiment was found in Kaggle (2019) in a package called \"aerial-cactus-identification.zip\". The data was extracted in the path \"../data/raw\" and it contained:\n",
    "* Two zip folders called \"train.zip\" and \"test.zip\", both containing the images recollected by <cite >(E. López-Jiménez, et al., 2019)</cite>\n",
    "* A csv file called \"train.csv\", which contains the list of images names with the class it corresponds to, from the \"train.zip\" package.\n",
    "* A csv file called \"sample_submission.csv\", which the names of the images in \"test.zip\"\n",
    "Both, \"test.zip\" and \"sample_submission.csv\" will be both ignored for this project.\n",
    "\n",
    "For dividing the data, we will start by:\n",
    "* Extracting the \"train.zip\" package.\n",
    "* Reading the \"train.csv\" file in order to look at the data which will be use for the experiments:"
   ]
  },
  {
   "cell_type": "code",
   "execution_count": 2,
   "id": "fb2af137",
   "metadata": {},
   "outputs": [
    {
     "data": {
      "text/html": [
       "<div>\n",
       "<style scoped>\n",
       "    .dataframe tbody tr th:only-of-type {\n",
       "        vertical-align: middle;\n",
       "    }\n",
       "\n",
       "    .dataframe tbody tr th {\n",
       "        vertical-align: top;\n",
       "    }\n",
       "\n",
       "    .dataframe thead th {\n",
       "        text-align: right;\n",
       "    }\n",
       "</style>\n",
       "<table border=\"1\" class=\"dataframe\">\n",
       "  <thead>\n",
       "    <tr style=\"text-align: right;\">\n",
       "      <th></th>\n",
       "      <th>id</th>\n",
       "      <th>has_cactus</th>\n",
       "    </tr>\n",
       "  </thead>\n",
       "  <tbody>\n",
       "    <tr>\n",
       "      <th>0</th>\n",
       "      <td>0004be2cfeaba1c0361d39e2b000257b.jpg</td>\n",
       "      <td>1</td>\n",
       "    </tr>\n",
       "    <tr>\n",
       "      <th>1</th>\n",
       "      <td>000c8a36845c0208e833c79c1bffedd1.jpg</td>\n",
       "      <td>1</td>\n",
       "    </tr>\n",
       "    <tr>\n",
       "      <th>2</th>\n",
       "      <td>000d1e9a533f62e55c289303b072733d.jpg</td>\n",
       "      <td>1</td>\n",
       "    </tr>\n",
       "    <tr>\n",
       "      <th>3</th>\n",
       "      <td>0011485b40695e9138e92d0b3fb55128.jpg</td>\n",
       "      <td>1</td>\n",
       "    </tr>\n",
       "    <tr>\n",
       "      <th>4</th>\n",
       "      <td>0014d7a11e90b62848904c1418fc8cf2.jpg</td>\n",
       "      <td>1</td>\n",
       "    </tr>\n",
       "  </tbody>\n",
       "</table>\n",
       "</div>"
      ],
      "text/plain": [
       "                                     id  has_cactus\n",
       "0  0004be2cfeaba1c0361d39e2b000257b.jpg           1\n",
       "1  000c8a36845c0208e833c79c1bffedd1.jpg           1\n",
       "2  000d1e9a533f62e55c289303b072733d.jpg           1\n",
       "3  0011485b40695e9138e92d0b3fb55128.jpg           1\n",
       "4  0014d7a11e90b62848904c1418fc8cf2.jpg           1"
      ]
     },
     "execution_count": 2,
     "metadata": {},
     "output_type": "execute_result"
    }
   ],
   "source": [
    "images_df = pd.read_csv('../data/raw/train.csv')\n",
    "images_df.head()"
   ]
  },
  {
   "cell_type": "markdown",
   "id": "17ed0cb8",
   "metadata": {},
   "source": [
    "The columns can be explained like this:\n",
    "* id: Name of the image\n",
    "* has_cactus: A flag that indicates either if the image contains a cactus or not, being 0 = it doesn't have a cactus and 1 = has a cactus\n",
    "\n",
    "## Separation of datasets\n",
    "The images of the train package will be divided in two main dataframes called \"validation\" and \"experiment\". This division is done in order to have a control group of classified images for validation against overfitting as well as, the group of images in which the the experiment will be run.\n",
    "\n",
    "To facilitate the division of dataframes `separate_dataframes` function was created. The function will separate the provided dataset in two dataframes based on the `separation_percentage` and the resulting dataframes will be shuffled if indicated:"
   ]
  },
  {
   "cell_type": "code",
   "execution_count": 3,
   "id": "d42753aa",
   "metadata": {},
   "outputs": [],
   "source": [
    "def separate_dataframes(dataframe, separation_percentage, shuffle=False):\n",
    "    manual_seed = 1\n",
    "    separation_marker = int(len(dataframe) * separation_percentage)\n",
    "    \n",
    "    if shuffle:\n",
    "        dataframe = dataframe.sample(frac=1, random_state = manual_seed)\n",
    "    \n",
    "    first_dataframe = dataframe.iloc[0:separation_marker]\n",
    "    second_dataframe = dataframe.iloc[separation_marker:len(dataframe)]\n",
    "    \n",
    "    return first_dataframe, second_dataframe"
   ]
  },
  {
   "cell_type": "markdown",
   "id": "6fea0068",
   "metadata": {},
   "source": [
    "### Separation of validation and experimental images\n",
    "For the division of the validation and the experimental images group, a 0.1 percentage will be used, so the division will be:\n",
    "* The validation group will be of the 10% of the provided images.\n",
    "* The experiment group will consist on the 90% if the provided images.\n",
    "* The groups will be shuffled"
   ]
  },
  {
   "cell_type": "code",
   "execution_count": 4,
   "id": "3e25065d",
   "metadata": {},
   "outputs": [
    {
     "data": {
      "text/plain": [
       "((0, 2), (17500, 2))"
      ]
     },
     "execution_count": 4,
     "metadata": {},
     "output_type": "execute_result"
    }
   ],
   "source": [
    "validation_images_df, experiment_images_df = separate_dataframes(images_df, 0.0, shuffle=True)\n",
    "validation_images_df.shape, experiment_images_df.shape"
   ]
  },
  {
   "cell_type": "code",
   "execution_count": 5,
   "id": "5de332b6",
   "metadata": {},
   "outputs": [
    {
     "data": {
      "text/html": [
       "<div>\n",
       "<style scoped>\n",
       "    .dataframe tbody tr th:only-of-type {\n",
       "        vertical-align: middle;\n",
       "    }\n",
       "\n",
       "    .dataframe tbody tr th {\n",
       "        vertical-align: top;\n",
       "    }\n",
       "\n",
       "    .dataframe thead th {\n",
       "        text-align: right;\n",
       "    }\n",
       "</style>\n",
       "<table border=\"1\" class=\"dataframe\">\n",
       "  <thead>\n",
       "    <tr style=\"text-align: right;\">\n",
       "      <th></th>\n",
       "      <th>id</th>\n",
       "      <th>has_cactus</th>\n",
       "    </tr>\n",
       "  </thead>\n",
       "  <tbody>\n",
       "    <tr>\n",
       "      <th>6670</th>\n",
       "      <td>60033b4a196a4bc6510333a352a4f915.jpg</td>\n",
       "      <td>0</td>\n",
       "    </tr>\n",
       "    <tr>\n",
       "      <th>15889</th>\n",
       "      <td>e7df86ab6661be24a052aeb0a953746d.jpg</td>\n",
       "      <td>0</td>\n",
       "    </tr>\n",
       "    <tr>\n",
       "      <th>14851</th>\n",
       "      <td>d842e05b4cf1ca8f2f97584a663d1090.jpg</td>\n",
       "      <td>0</td>\n",
       "    </tr>\n",
       "    <tr>\n",
       "      <th>6946</th>\n",
       "      <td>641ef647b27a4ee4ba179b6f25426ac6.jpg</td>\n",
       "      <td>1</td>\n",
       "    </tr>\n",
       "    <tr>\n",
       "      <th>14933</th>\n",
       "      <td>d97a92fca0f0dff8df07fb1b3b752f7b.jpg</td>\n",
       "      <td>1</td>\n",
       "    </tr>\n",
       "  </tbody>\n",
       "</table>\n",
       "</div>"
      ],
      "text/plain": [
       "                                         id  has_cactus\n",
       "6670   60033b4a196a4bc6510333a352a4f915.jpg           0\n",
       "15889  e7df86ab6661be24a052aeb0a953746d.jpg           0\n",
       "14851  d842e05b4cf1ca8f2f97584a663d1090.jpg           0\n",
       "6946   641ef647b27a4ee4ba179b6f25426ac6.jpg           1\n",
       "14933  d97a92fca0f0dff8df07fb1b3b752f7b.jpg           1"
      ]
     },
     "execution_count": 5,
     "metadata": {},
     "output_type": "execute_result"
    }
   ],
   "source": [
    "experiment_images_df.head()"
   ]
  },
  {
   "cell_type": "code",
   "execution_count": 6,
   "id": "d79b869c",
   "metadata": {},
   "outputs": [
    {
     "data": {
      "text/html": [
       "<div>\n",
       "<style scoped>\n",
       "    .dataframe tbody tr th:only-of-type {\n",
       "        vertical-align: middle;\n",
       "    }\n",
       "\n",
       "    .dataframe tbody tr th {\n",
       "        vertical-align: top;\n",
       "    }\n",
       "\n",
       "    .dataframe thead th {\n",
       "        text-align: right;\n",
       "    }\n",
       "</style>\n",
       "<table border=\"1\" class=\"dataframe\">\n",
       "  <thead>\n",
       "    <tr style=\"text-align: right;\">\n",
       "      <th></th>\n",
       "      <th>id</th>\n",
       "      <th>has_cactus</th>\n",
       "    </tr>\n",
       "  </thead>\n",
       "  <tbody>\n",
       "  </tbody>\n",
       "</table>\n",
       "</div>"
      ],
      "text/plain": [
       "Empty DataFrame\n",
       "Columns: [id, has_cactus]\n",
       "Index: []"
      ]
     },
     "execution_count": 6,
     "metadata": {},
     "output_type": "execute_result"
    }
   ],
   "source": [
    "validation_images_df.head()"
   ]
  },
  {
   "cell_type": "markdown",
   "id": "5a9b8176",
   "metadata": {},
   "source": [
    "### Separation of training and test images\n",
    "The experiment images will also be divided into training and test, for that a 0.2 percent will be used for the division, and the groups will consist on:\n",
    "* Test group will consist on the 20% of the experiment images.\n",
    "* Train group will consist on the 80% of the experiment images.\n",
    "* Groups will not be shuffled."
   ]
  },
  {
   "cell_type": "code",
   "execution_count": 7,
   "id": "f57b61dd",
   "metadata": {},
   "outputs": [
    {
     "data": {
      "text/plain": [
       "((3500, 2), (14000, 2))"
      ]
     },
     "execution_count": 7,
     "metadata": {},
     "output_type": "execute_result"
    }
   ],
   "source": [
    "test_df, train_df = separate_dataframes(experiment_images_df, 0.2)\n",
    "test_df.shape, train_df.shape"
   ]
  },
  {
   "cell_type": "code",
   "execution_count": 8,
   "id": "2d98b7f4",
   "metadata": {
    "scrolled": true
   },
   "outputs": [
    {
     "data": {
      "text/html": [
       "<div>\n",
       "<style scoped>\n",
       "    .dataframe tbody tr th:only-of-type {\n",
       "        vertical-align: middle;\n",
       "    }\n",
       "\n",
       "    .dataframe tbody tr th {\n",
       "        vertical-align: top;\n",
       "    }\n",
       "\n",
       "    .dataframe thead th {\n",
       "        text-align: right;\n",
       "    }\n",
       "</style>\n",
       "<table border=\"1\" class=\"dataframe\">\n",
       "  <thead>\n",
       "    <tr style=\"text-align: right;\">\n",
       "      <th></th>\n",
       "      <th>id</th>\n",
       "      <th>has_cactus</th>\n",
       "    </tr>\n",
       "  </thead>\n",
       "  <tbody>\n",
       "    <tr>\n",
       "      <th>6670</th>\n",
       "      <td>60033b4a196a4bc6510333a352a4f915.jpg</td>\n",
       "      <td>0</td>\n",
       "    </tr>\n",
       "    <tr>\n",
       "      <th>15889</th>\n",
       "      <td>e7df86ab6661be24a052aeb0a953746d.jpg</td>\n",
       "      <td>0</td>\n",
       "    </tr>\n",
       "    <tr>\n",
       "      <th>14851</th>\n",
       "      <td>d842e05b4cf1ca8f2f97584a663d1090.jpg</td>\n",
       "      <td>0</td>\n",
       "    </tr>\n",
       "    <tr>\n",
       "      <th>6946</th>\n",
       "      <td>641ef647b27a4ee4ba179b6f25426ac6.jpg</td>\n",
       "      <td>1</td>\n",
       "    </tr>\n",
       "    <tr>\n",
       "      <th>14933</th>\n",
       "      <td>d97a92fca0f0dff8df07fb1b3b752f7b.jpg</td>\n",
       "      <td>1</td>\n",
       "    </tr>\n",
       "  </tbody>\n",
       "</table>\n",
       "</div>"
      ],
      "text/plain": [
       "                                         id  has_cactus\n",
       "6670   60033b4a196a4bc6510333a352a4f915.jpg           0\n",
       "15889  e7df86ab6661be24a052aeb0a953746d.jpg           0\n",
       "14851  d842e05b4cf1ca8f2f97584a663d1090.jpg           0\n",
       "6946   641ef647b27a4ee4ba179b6f25426ac6.jpg           1\n",
       "14933  d97a92fca0f0dff8df07fb1b3b752f7b.jpg           1"
      ]
     },
     "execution_count": 8,
     "metadata": {},
     "output_type": "execute_result"
    }
   ],
   "source": [
    "test_df.head()"
   ]
  },
  {
   "cell_type": "code",
   "execution_count": 9,
   "id": "c28bd9cc",
   "metadata": {},
   "outputs": [
    {
     "data": {
      "text/html": [
       "<div>\n",
       "<style scoped>\n",
       "    .dataframe tbody tr th:only-of-type {\n",
       "        vertical-align: middle;\n",
       "    }\n",
       "\n",
       "    .dataframe tbody tr th {\n",
       "        vertical-align: top;\n",
       "    }\n",
       "\n",
       "    .dataframe thead th {\n",
       "        text-align: right;\n",
       "    }\n",
       "</style>\n",
       "<table border=\"1\" class=\"dataframe\">\n",
       "  <thead>\n",
       "    <tr style=\"text-align: right;\">\n",
       "      <th></th>\n",
       "      <th>id</th>\n",
       "      <th>has_cactus</th>\n",
       "    </tr>\n",
       "  </thead>\n",
       "  <tbody>\n",
       "    <tr>\n",
       "      <th>8435</th>\n",
       "      <td>7923561977ce2e3df6b4516210e513e2.jpg</td>\n",
       "      <td>1</td>\n",
       "    </tr>\n",
       "    <tr>\n",
       "      <th>12861</th>\n",
       "      <td>ba6690fce78bb36f059f3f4f2bdab4b2.jpg</td>\n",
       "      <td>1</td>\n",
       "    </tr>\n",
       "    <tr>\n",
       "      <th>12795</th>\n",
       "      <td>b9446fd0e854e4dcf8c39de917737ea9.jpg</td>\n",
       "      <td>1</td>\n",
       "    </tr>\n",
       "    <tr>\n",
       "      <th>5476</th>\n",
       "      <td>4ec98191dfd59040d2fbb180b8530cac.jpg</td>\n",
       "      <td>1</td>\n",
       "    </tr>\n",
       "    <tr>\n",
       "      <th>17195</th>\n",
       "      <td>fb695b75766192610a28b45a647a7ab2.jpg</td>\n",
       "      <td>1</td>\n",
       "    </tr>\n",
       "  </tbody>\n",
       "</table>\n",
       "</div>"
      ],
      "text/plain": [
       "                                         id  has_cactus\n",
       "8435   7923561977ce2e3df6b4516210e513e2.jpg           1\n",
       "12861  ba6690fce78bb36f059f3f4f2bdab4b2.jpg           1\n",
       "12795  b9446fd0e854e4dcf8c39de917737ea9.jpg           1\n",
       "5476   4ec98191dfd59040d2fbb180b8530cac.jpg           1\n",
       "17195  fb695b75766192610a28b45a647a7ab2.jpg           1"
      ]
     },
     "execution_count": 9,
     "metadata": {},
     "output_type": "execute_result"
    }
   ],
   "source": [
    "train_df.head()"
   ]
  },
  {
   "cell_type": "markdown",
   "id": "8f96a5d6",
   "metadata": {},
   "source": [
    "# Export images by category\n",
    "To preserve the original set of images, the images will be transfered into the folder path \"../data/interim\".\n",
    "\n",
    "The export process will be done based on the division of the dataset previously done. For that, the following paths were defined:"
   ]
  },
  {
   "cell_type": "code",
   "execution_count": 10,
   "id": "9291d60d",
   "metadata": {},
   "outputs": [],
   "source": [
    "#Get relative directory\n",
    "project_dir = os.path.dirname(os.getcwd())\n",
    "\n",
    "#New paths for the images\n",
    "original_path = os.path.join(project_dir,'data/raw/train/')\n",
    "new_val_path = os.path.join(project_dir,'data/interim/validation')\n",
    "new_test_path = os.path.join(project_dir,'data/interim/experiment/test/')\n",
    "new_train_path = os.path.join(project_dir,'data/interim/experiment/train/')"
   ]
  },
  {
   "cell_type": "markdown",
   "id": "badea299",
   "metadata": {},
   "source": [
    "For exporting the images, the dataset with the images names will be provided with the original and new path where they will be exported. If a flag is provided, the images:\n",
    "* New folders will also be added with the names 'has_cactus' and 'no_cactus'. This is done in order to take advantage of a tool that will be use when the images are loaded.\n",
    "* The images will be divided into these new folders depending on the value of the 'has_cactus' column in the dataset."
   ]
  },
  {
   "cell_type": "code",
   "execution_count": 11,
   "id": "abcdd337",
   "metadata": {},
   "outputs": [],
   "source": [
    "def export_images(dataset, original_path, new_path, flag=None):\n",
    "    if flag is not None:\n",
    "        category1_path = os.path.join(new_path, 'has_cactus')\n",
    "        os.makedirs(category1_path)\n",
    "        print(f'Dif: {category1_path} created.')\n",
    "        category2_path = os.path.join(new_path, 'no_cactus')\n",
    "        os.makedirs(category2_path)\n",
    "        print(f'Dif: {category2_path} created.')\n",
    "    for row in dataset.itertuples(index=False):\n",
    "        if flag is None:\n",
    "            shutil.copyfile(os.path.join(original_path, row[0]), os.path.join(new_path, row[0]))\n",
    "        elif row[1] == flag:\n",
    "            shutil.copyfile(os.path.join(original_path, row[0]), os.path.join(category1_path, row[0]))\n",
    "        else:\n",
    "            shutil.copyfile(os.path.join(original_path, row[0]), os.path.join(category2_path, row[0]))"
   ]
  },
  {
   "cell_type": "markdown",
   "id": "74920234",
   "metadata": {},
   "source": [
    "## Validation Images Export\n",
    "Exporting the image control group into the \"validation\" path"
   ]
  },
  {
   "cell_type": "code",
   "execution_count": 12,
   "id": "2e346eab",
   "metadata": {},
   "outputs": [
    {
     "name": "stdout",
     "output_type": "stream",
     "text": [
      "Validation export lasted: 0.003888845443725586 seconds.\n"
     ]
    }
   ],
   "source": [
    "import time\n",
    "start_time = time.time()\n",
    "\n",
    "os.makedirs(new_val_path)\n",
    "export_images(validation_images_df, original_path, new_val_path)\n",
    "\n",
    "finish_time = time.time()\n",
    "print(f'Validation export lasted: {finish_time-start_time} seconds.')"
   ]
  },
  {
   "cell_type": "markdown",
   "id": "866ea2bb",
   "metadata": {},
   "source": [
    "## Experiment Images Export"
   ]
  },
  {
   "cell_type": "markdown",
   "id": "672dd00a",
   "metadata": {},
   "source": [
    "### Training Images Export\n",
    "Exporting the images to be used in training the model."
   ]
  },
  {
   "cell_type": "code",
   "execution_count": 13,
   "id": "455dffa7",
   "metadata": {},
   "outputs": [
    {
     "name": "stdout",
     "output_type": "stream",
     "text": [
      "Dif: /home/jascrer/TFM/TFM_DL_CNN_Codigo_SeguraCampos/tfm_dl-cnn_codigo_seguracampos/data/interim/experiment/train/has_cactus created.\n",
      "Dif: /home/jascrer/TFM/TFM_DL_CNN_Codigo_SeguraCampos/tfm_dl-cnn_codigo_seguracampos/data/interim/experiment/train/no_cactus created.\n",
      "Validation export lasted: 93.21837615966797 seconds.\n"
     ]
    }
   ],
   "source": [
    "import time\n",
    "start_time = time.time()\n",
    "\n",
    "os.makedirs(new_train_path)\n",
    "export_images(train_df, original_path, new_train_path, flag=1)\n",
    "\n",
    "finish_time = time.time()\n",
    "print(f'Validation export lasted: {finish_time-start_time} seconds.')"
   ]
  },
  {
   "cell_type": "markdown",
   "id": "88c3e89d",
   "metadata": {},
   "source": [
    "### Test Images Export\n",
    "Exporting the images to be used in testing the model."
   ]
  },
  {
   "cell_type": "code",
   "execution_count": 14,
   "id": "982c2ee6",
   "metadata": {},
   "outputs": [
    {
     "name": "stdout",
     "output_type": "stream",
     "text": [
      "Dif: /home/jascrer/TFM/TFM_DL_CNN_Codigo_SeguraCampos/tfm_dl-cnn_codigo_seguracampos/data/interim/experiment/test/has_cactus created.\n",
      "Dif: /home/jascrer/TFM/TFM_DL_CNN_Codigo_SeguraCampos/tfm_dl-cnn_codigo_seguracampos/data/interim/experiment/test/no_cactus created.\n",
      "Validation export lasted: 23.75086784362793 seconds.\n"
     ]
    }
   ],
   "source": [
    "import time\n",
    "start_time = time.time()\n",
    "\n",
    "os.makedirs(new_test_path)\n",
    "export_images(test_df, original_path, new_test_path, flag=1)\n",
    "\n",
    "finish_time = time.time()\n",
    "print(f'Validation export lasted: {finish_time-start_time} seconds.')"
   ]
  },
  {
   "cell_type": "markdown",
   "id": "c7681742",
   "metadata": {},
   "source": [
    "# References\n",
    "* Aerial Cactus Identification. (2019, 8 march). Kaggle. from https://www.kaggle.com/c/aerial-cactus-identification/overview\n",
    "* López-Jiménez, Efren; Vasquez-Gomez, Juan Irving; Sanchez-Acevedo, Miguel Angel; Herrera-Lozada, Juan Carlos; Uriarte-Arcia, Abril Valeria (2019); “Columnar Cactus Recognition in Aerial Images using a Deep Learning Approach”. Ecological Informatics. 52. 131-138."
   ]
  }
 ],
 "metadata": {
  "kernelspec": {
   "display_name": "Python 3 (ipykernel)",
   "language": "python",
   "name": "python3"
  },
  "language_info": {
   "codemirror_mode": {
    "name": "ipython",
    "version": 3
   },
   "file_extension": ".py",
   "mimetype": "text/x-python",
   "name": "python",
   "nbconvert_exporter": "python",
   "pygments_lexer": "ipython3",
   "version": "3.9.7"
  }
 },
 "nbformat": 4,
 "nbformat_minor": 5
}
