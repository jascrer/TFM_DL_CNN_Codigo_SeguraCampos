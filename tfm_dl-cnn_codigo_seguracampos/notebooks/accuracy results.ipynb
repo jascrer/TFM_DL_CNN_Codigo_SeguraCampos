{
 "cells": [
  {
   "cell_type": "code",
   "execution_count": 4,
   "id": "9b9a7cce-7e9c-40d6-b3db-62fc4265e185",
   "metadata": {},
   "outputs": [],
   "source": [
    "import pandas as pd\n",
    "import matplotlib.pyplot as plt"
   ]
  },
  {
   "cell_type": "code",
   "execution_count": 30,
   "id": "a5cc6d6f-f99a-40e0-bf73-b039c24e7061",
   "metadata": {},
   "outputs": [
    {
     "data": {
      "text/html": [
       "<div>\n",
       "<style scoped>\n",
       "    .dataframe tbody tr th:only-of-type {\n",
       "        vertical-align: middle;\n",
       "    }\n",
       "\n",
       "    .dataframe tbody tr th {\n",
       "        vertical-align: top;\n",
       "    }\n",
       "\n",
       "    .dataframe thead th {\n",
       "        text-align: right;\n",
       "    }\n",
       "</style>\n",
       "<table border=\"1\" class=\"dataframe\">\n",
       "  <thead>\n",
       "    <tr style=\"text-align: right;\">\n",
       "      <th></th>\n",
       "      <th>Unnamed: 0</th>\n",
       "      <th>epoch</th>\n",
       "      <th>batch_number</th>\n",
       "      <th>loss</th>\n",
       "      <th>accuracy</th>\n",
       "    </tr>\n",
       "  </thead>\n",
       "  <tbody>\n",
       "    <tr>\n",
       "      <th>0</th>\n",
       "      <td>0</td>\n",
       "      <td>1.0</td>\n",
       "      <td>1.0</td>\n",
       "      <td>0.678886</td>\n",
       "      <td>0.628000</td>\n",
       "    </tr>\n",
       "    <tr>\n",
       "      <th>1</th>\n",
       "      <td>1</td>\n",
       "      <td>1.0</td>\n",
       "      <td>2.0</td>\n",
       "      <td>0.672223</td>\n",
       "      <td>0.684000</td>\n",
       "    </tr>\n",
       "    <tr>\n",
       "      <th>2</th>\n",
       "      <td>2</td>\n",
       "      <td>1.0</td>\n",
       "      <td>3.0</td>\n",
       "      <td>2.793195</td>\n",
       "      <td>0.584267</td>\n",
       "    </tr>\n",
       "    <tr>\n",
       "      <th>3</th>\n",
       "      <td>3</td>\n",
       "      <td>1.0</td>\n",
       "      <td>4.0</td>\n",
       "      <td>1.548861</td>\n",
       "      <td>0.613600</td>\n",
       "    </tr>\n",
       "    <tr>\n",
       "      <th>4</th>\n",
       "      <td>4</td>\n",
       "      <td>1.0</td>\n",
       "      <td>5.0</td>\n",
       "      <td>0.893835</td>\n",
       "      <td>0.638800</td>\n",
       "    </tr>\n",
       "  </tbody>\n",
       "</table>\n",
       "</div>"
      ],
      "text/plain": [
       "   Unnamed: 0  epoch  batch_number      loss  accuracy\n",
       "0           0    1.0           1.0  0.678886  0.628000\n",
       "1           1    1.0           2.0  0.672223  0.684000\n",
       "2           2    1.0           3.0  2.793195  0.584267\n",
       "3           3    1.0           4.0  1.548861  0.613600\n",
       "4           4    1.0           5.0  0.893835  0.638800"
      ]
     },
     "execution_count": 30,
     "metadata": {},
     "output_type": "execute_result"
    }
   ],
   "source": [
    "train_df = pd.read_csv('../data/processed/phi_no_aug/train.csv')\n",
    "test_df = pd.read_csv('../data/processed/phi_no_aug/test.csv')\n",
    "train_df.head()"
   ]
  },
  {
   "cell_type": "code",
   "execution_count": 31,
   "id": "7bd0f8ba-d0fe-4a51-9fc9-afdc0b9ba86b",
   "metadata": {},
   "outputs": [
    {
     "data": {
      "text/html": [
       "<div>\n",
       "<style scoped>\n",
       "    .dataframe tbody tr th:only-of-type {\n",
       "        vertical-align: middle;\n",
       "    }\n",
       "\n",
       "    .dataframe tbody tr th {\n",
       "        vertical-align: top;\n",
       "    }\n",
       "\n",
       "    .dataframe thead th {\n",
       "        text-align: right;\n",
       "    }\n",
       "</style>\n",
       "<table border=\"1\" class=\"dataframe\">\n",
       "  <thead>\n",
       "    <tr style=\"text-align: right;\">\n",
       "      <th></th>\n",
       "      <th>Unnamed: 0</th>\n",
       "      <th>epoch</th>\n",
       "      <th>batch_number</th>\n",
       "      <th>loss</th>\n",
       "      <th>accuracy</th>\n",
       "    </tr>\n",
       "  </thead>\n",
       "  <tbody>\n",
       "    <tr>\n",
       "      <th>0</th>\n",
       "      <td>0</td>\n",
       "      <td>1.0</td>\n",
       "      <td>1.0</td>\n",
       "      <td>0.511176</td>\n",
       "      <td>0.884000</td>\n",
       "    </tr>\n",
       "    <tr>\n",
       "      <th>1</th>\n",
       "      <td>1</td>\n",
       "      <td>1.0</td>\n",
       "      <td>2.0</td>\n",
       "      <td>0.833184</td>\n",
       "      <td>0.693143</td>\n",
       "    </tr>\n",
       "    <tr>\n",
       "      <th>2</th>\n",
       "      <td>2</td>\n",
       "      <td>2.0</td>\n",
       "      <td>1.0</td>\n",
       "      <td>0.194381</td>\n",
       "      <td>0.948000</td>\n",
       "    </tr>\n",
       "    <tr>\n",
       "      <th>3</th>\n",
       "      <td>3</td>\n",
       "      <td>2.0</td>\n",
       "      <td>2.0</td>\n",
       "      <td>0.478419</td>\n",
       "      <td>0.899143</td>\n",
       "    </tr>\n",
       "    <tr>\n",
       "      <th>4</th>\n",
       "      <td>4</td>\n",
       "      <td>3.0</td>\n",
       "      <td>1.0</td>\n",
       "      <td>0.387532</td>\n",
       "      <td>0.866800</td>\n",
       "    </tr>\n",
       "  </tbody>\n",
       "</table>\n",
       "</div>"
      ],
      "text/plain": [
       "   Unnamed: 0  epoch  batch_number      loss  accuracy\n",
       "0           0    1.0           1.0  0.511176  0.884000\n",
       "1           1    1.0           2.0  0.833184  0.693143\n",
       "2           2    2.0           1.0  0.194381  0.948000\n",
       "3           3    2.0           2.0  0.478419  0.899143\n",
       "4           4    3.0           1.0  0.387532  0.866800"
      ]
     },
     "execution_count": 31,
     "metadata": {},
     "output_type": "execute_result"
    }
   ],
   "source": [
    "test_df.head()"
   ]
  },
  {
   "cell_type": "code",
   "execution_count": 32,
   "id": "f0ef9ae5-5bb2-4288-b571-2e83c1586767",
   "metadata": {},
   "outputs": [
    {
     "data": {
      "text/plain": [
       "<matplotlib.legend.Legend at 0x7f59c7b7b190>"
      ]
     },
     "execution_count": 32,
     "metadata": {},
     "output_type": "execute_result"
    },
    {
     "data": {
      "image/png": "[encoded data removed]",
      "text/plain": [
       "<Figure size 432x288 with 1 Axes>"
      ]
     },
     "metadata": {
      "needs_background": "light"
     },
     "output_type": "display_data"
    }
   ],
   "source": [
    "plt.plot(train_df['accuracy'], label='training accuracy')\n",
    "plt.plot(test_df['accuracy'], label='testing accuracy')\n",
    "plt.legend()"
   ]
  },
  {
   "cell_type": "code",
   "execution_count": 33,
   "id": "a5bf399f-270d-4ff0-ad9b-593ebf7fde17",
   "metadata": {},
   "outputs": [
    {
     "data": {
      "text/plain": [
       "<matplotlib.legend.Legend at 0x7f59c7b3cbe0>"
      ]
     },
     "execution_count": 33,
     "metadata": {},
     "output_type": "execute_result"
    },
    {
     "data": {
      "image/png": "[encoded data removed]",
      "text/plain": [
       "<Figure size 432x288 with 1 Axes>"
      ]
     },
     "metadata": {
      "needs_background": "light"
     },
     "output_type": "display_data"
    }
   ],
   "source": [
    "plt.plot(train_df['loss'], label='training loss')\n",
    "plt.plot(test_df['loss'], label='testing loss')\n",
    "plt.legend()"
   ]
  },
  {
   "cell_type": "code",
   "execution_count": 29,
   "id": "7325fb09-9293-4f44-80ee-02e286f05cbc",
   "metadata": {},
   "outputs": [
    {
     "data": {
      "text/html": [
       "<div>\n",
       "<style scoped>\n",
       "    .dataframe tbody tr th:only-of-type {\n",
       "        vertical-align: middle;\n",
       "    }\n",
       "\n",
       "    .dataframe tbody tr th {\n",
       "        vertical-align: top;\n",
       "    }\n",
       "\n",
       "    .dataframe thead th {\n",
       "        text-align: right;\n",
       "    }\n",
       "</style>\n",
       "<table border=\"1\" class=\"dataframe\">\n",
       "  <thead>\n",
       "    <tr style=\"text-align: right;\">\n",
       "      <th></th>\n",
       "      <th>Unnamed: 0</th>\n",
       "      <th>epoch</th>\n",
       "      <th>batch_number</th>\n",
       "      <th>loss</th>\n",
       "      <th>accuracy</th>\n",
       "    </tr>\n",
       "  </thead>\n",
       "  <tbody>\n",
       "    <tr>\n",
       "      <th>count</th>\n",
       "      <td>150.000000</td>\n",
       "      <td>150.000000</td>\n",
       "      <td>150.0</td>\n",
       "      <td>150.000000</td>\n",
       "      <td>150.000000</td>\n",
       "    </tr>\n",
       "    <tr>\n",
       "      <th>mean</th>\n",
       "      <td>74.500000</td>\n",
       "      <td>75.500000</td>\n",
       "      <td>1.0</td>\n",
       "      <td>1.602788</td>\n",
       "      <td>0.949002</td>\n",
       "    </tr>\n",
       "    <tr>\n",
       "      <th>std</th>\n",
       "      <td>43.445368</td>\n",
       "      <td>43.445368</td>\n",
       "      <td>0.0</td>\n",
       "      <td>9.836147</td>\n",
       "      <td>0.081888</td>\n",
       "    </tr>\n",
       "    <tr>\n",
       "      <th>min</th>\n",
       "      <td>0.000000</td>\n",
       "      <td>1.000000</td>\n",
       "      <td>1.0</td>\n",
       "      <td>0.017565</td>\n",
       "      <td>0.426400</td>\n",
       "    </tr>\n",
       "    <tr>\n",
       "      <th>25%</th>\n",
       "      <td>37.250000</td>\n",
       "      <td>38.250000</td>\n",
       "      <td>1.0</td>\n",
       "      <td>0.053774</td>\n",
       "      <td>0.957316</td>\n",
       "    </tr>\n",
       "    <tr>\n",
       "      <th>50%</th>\n",
       "      <td>74.500000</td>\n",
       "      <td>75.500000</td>\n",
       "      <td>1.0</td>\n",
       "      <td>0.075764</td>\n",
       "      <td>0.971747</td>\n",
       "    </tr>\n",
       "    <tr>\n",
       "      <th>75%</th>\n",
       "      <td>111.750000</td>\n",
       "      <td>112.750000</td>\n",
       "      <td>1.0</td>\n",
       "      <td>0.111072</td>\n",
       "      <td>0.980521</td>\n",
       "    </tr>\n",
       "    <tr>\n",
       "      <th>max</th>\n",
       "      <td>149.000000</td>\n",
       "      <td>150.000000</td>\n",
       "      <td>1.0</td>\n",
       "      <td>94.403322</td>\n",
       "      <td>0.994551</td>\n",
       "    </tr>\n",
       "  </tbody>\n",
       "</table>\n",
       "</div>"
      ],
      "text/plain": [
       "       Unnamed: 0       epoch  batch_number        loss    accuracy\n",
       "count  150.000000  150.000000         150.0  150.000000  150.000000\n",
       "mean    74.500000   75.500000           1.0    1.602788    0.949002\n",
       "std     43.445368   43.445368           0.0    9.836147    0.081888\n",
       "min      0.000000    1.000000           1.0    0.017565    0.426400\n",
       "25%     37.250000   38.250000           1.0    0.053774    0.957316\n",
       "50%     74.500000   75.500000           1.0    0.075764    0.971747\n",
       "75%    111.750000  112.750000           1.0    0.111072    0.980521\n",
       "max    149.000000  150.000000           1.0   94.403322    0.994551"
      ]
     },
     "execution_count": 29,
     "metadata": {},
     "output_type": "execute_result"
    }
   ],
   "source": [
    "train_df.describe()"
   ]
  },
  {
   "cell_type": "code",
   "execution_count": 20,
   "id": "adbfced3-3fd3-4061-9fe9-36b6f72e5dc5",
   "metadata": {},
   "outputs": [
    {
     "data": {
      "text/html": [
       "<div>\n",
       "<style scoped>\n",
       "    .dataframe tbody tr th:only-of-type {\n",
       "        vertical-align: middle;\n",
       "    }\n",
       "\n",
       "    .dataframe tbody tr th {\n",
       "        vertical-align: top;\n",
       "    }\n",
       "\n",
       "    .dataframe thead th {\n",
       "        text-align: right;\n",
       "    }\n",
       "</style>\n",
       "<table border=\"1\" class=\"dataframe\">\n",
       "  <thead>\n",
       "    <tr style=\"text-align: right;\">\n",
       "      <th></th>\n",
       "      <th>Unnamed: 0</th>\n",
       "      <th>epoch</th>\n",
       "      <th>batch_number</th>\n",
       "      <th>loss</th>\n",
       "      <th>accuracy</th>\n",
       "    </tr>\n",
       "  </thead>\n",
       "  <tbody>\n",
       "    <tr>\n",
       "      <th>count</th>\n",
       "      <td>300.000000</td>\n",
       "      <td>300.000000</td>\n",
       "      <td>300.000000</td>\n",
       "      <td>300.000000</td>\n",
       "      <td>300.000000</td>\n",
       "    </tr>\n",
       "    <tr>\n",
       "      <th>mean</th>\n",
       "      <td>149.500000</td>\n",
       "      <td>75.500000</td>\n",
       "      <td>1.500000</td>\n",
       "      <td>0.094352</td>\n",
       "      <td>0.979706</td>\n",
       "    </tr>\n",
       "    <tr>\n",
       "      <th>std</th>\n",
       "      <td>86.746758</td>\n",
       "      <td>43.372656</td>\n",
       "      <td>0.500835</td>\n",
       "      <td>0.085290</td>\n",
       "      <td>0.030667</td>\n",
       "    </tr>\n",
       "    <tr>\n",
       "      <th>min</th>\n",
       "      <td>0.000000</td>\n",
       "      <td>1.000000</td>\n",
       "      <td>1.000000</td>\n",
       "      <td>0.030039</td>\n",
       "      <td>0.696571</td>\n",
       "    </tr>\n",
       "    <tr>\n",
       "      <th>25%</th>\n",
       "      <td>74.750000</td>\n",
       "      <td>38.000000</td>\n",
       "      <td>1.000000</td>\n",
       "      <td>0.053884</td>\n",
       "      <td>0.981643</td>\n",
       "    </tr>\n",
       "    <tr>\n",
       "      <th>50%</th>\n",
       "      <td>149.500000</td>\n",
       "      <td>75.500000</td>\n",
       "      <td>1.500000</td>\n",
       "      <td>0.074163</td>\n",
       "      <td>0.988400</td>\n",
       "    </tr>\n",
       "    <tr>\n",
       "      <th>75%</th>\n",
       "      <td>224.250000</td>\n",
       "      <td>113.000000</td>\n",
       "      <td>2.000000</td>\n",
       "      <td>0.108024</td>\n",
       "      <td>0.989143</td>\n",
       "    </tr>\n",
       "    <tr>\n",
       "      <th>max</th>\n",
       "      <td>299.000000</td>\n",
       "      <td>150.000000</td>\n",
       "      <td>2.000000</td>\n",
       "      <td>0.856714</td>\n",
       "      <td>0.990400</td>\n",
       "    </tr>\n",
       "  </tbody>\n",
       "</table>\n",
       "</div>"
      ],
      "text/plain": [
       "       Unnamed: 0       epoch  batch_number        loss    accuracy\n",
       "count  300.000000  300.000000    300.000000  300.000000  300.000000\n",
       "mean   149.500000   75.500000      1.500000    0.094352    0.979706\n",
       "std     86.746758   43.372656      0.500835    0.085290    0.030667\n",
       "min      0.000000    1.000000      1.000000    0.030039    0.696571\n",
       "25%     74.750000   38.000000      1.000000    0.053884    0.981643\n",
       "50%    149.500000   75.500000      1.500000    0.074163    0.988400\n",
       "75%    224.250000  113.000000      2.000000    0.108024    0.989143\n",
       "max    299.000000  150.000000      2.000000    0.856714    0.990400"
      ]
     },
     "execution_count": 20,
     "metadata": {},
     "output_type": "execute_result"
    }
   ],
   "source": [
    "test_df.describe()"
   ]
  },
  {
   "cell_type": "code",
   "execution_count": 37,
   "id": "383bcdfc-e676-4416-8cf7-9e8f63d9a5d3",
   "metadata": {},
   "outputs": [
    {
     "data": {
      "text/html": [
       "<div>\n",
       "<style scoped>\n",
       "    .dataframe tbody tr th:only-of-type {\n",
       "        vertical-align: middle;\n",
       "    }\n",
       "\n",
       "    .dataframe tbody tr th {\n",
       "        vertical-align: top;\n",
       "    }\n",
       "\n",
       "    .dataframe thead th {\n",
       "        text-align: right;\n",
       "    }\n",
       "</style>\n",
       "<table border=\"1\" class=\"dataframe\">\n",
       "  <thead>\n",
       "    <tr style=\"text-align: right;\">\n",
       "      <th></th>\n",
       "      <th>Unnamed: 0</th>\n",
       "      <th>batch_number</th>\n",
       "      <th>loss</th>\n",
       "      <th>accuracy</th>\n",
       "    </tr>\n",
       "    <tr>\n",
       "      <th>epoch</th>\n",
       "      <th></th>\n",
       "      <th></th>\n",
       "      <th></th>\n",
       "      <th></th>\n",
       "    </tr>\n",
       "  </thead>\n",
       "  <tbody>\n",
       "    <tr>\n",
       "      <th>1.0</th>\n",
       "      <td>2.5</td>\n",
       "      <td>3.5</td>\n",
       "      <td>2.395594</td>\n",
       "      <td>0.625302</td>\n",
       "    </tr>\n",
       "    <tr>\n",
       "      <th>2.0</th>\n",
       "      <td>8.5</td>\n",
       "      <td>3.5</td>\n",
       "      <td>0.584559</td>\n",
       "      <td>0.749380</td>\n",
       "    </tr>\n",
       "    <tr>\n",
       "      <th>3.0</th>\n",
       "      <td>14.5</td>\n",
       "      <td>3.5</td>\n",
       "      <td>0.353168</td>\n",
       "      <td>0.846435</td>\n",
       "    </tr>\n",
       "    <tr>\n",
       "      <th>4.0</th>\n",
       "      <td>20.5</td>\n",
       "      <td>3.5</td>\n",
       "      <td>0.326295</td>\n",
       "      <td>0.862309</td>\n",
       "    </tr>\n",
       "    <tr>\n",
       "      <th>5.0</th>\n",
       "      <td>26.5</td>\n",
       "      <td>3.5</td>\n",
       "      <td>0.220578</td>\n",
       "      <td>0.913973</td>\n",
       "    </tr>\n",
       "    <tr>\n",
       "      <th>...</th>\n",
       "      <td>...</td>\n",
       "      <td>...</td>\n",
       "      <td>...</td>\n",
       "      <td>...</td>\n",
       "    </tr>\n",
       "    <tr>\n",
       "      <th>146.0</th>\n",
       "      <td>872.5</td>\n",
       "      <td>3.5</td>\n",
       "      <td>0.000074</td>\n",
       "      <td>1.000000</td>\n",
       "    </tr>\n",
       "    <tr>\n",
       "      <th>147.0</th>\n",
       "      <td>878.5</td>\n",
       "      <td>3.5</td>\n",
       "      <td>0.000074</td>\n",
       "      <td>1.000000</td>\n",
       "    </tr>\n",
       "    <tr>\n",
       "      <th>148.0</th>\n",
       "      <td>884.5</td>\n",
       "      <td>3.5</td>\n",
       "      <td>0.000074</td>\n",
       "      <td>1.000000</td>\n",
       "    </tr>\n",
       "    <tr>\n",
       "      <th>149.0</th>\n",
       "      <td>890.5</td>\n",
       "      <td>3.5</td>\n",
       "      <td>0.000073</td>\n",
       "      <td>1.000000</td>\n",
       "    </tr>\n",
       "    <tr>\n",
       "      <th>150.0</th>\n",
       "      <td>896.5</td>\n",
       "      <td>3.5</td>\n",
       "      <td>0.000073</td>\n",
       "      <td>1.000000</td>\n",
       "    </tr>\n",
       "  </tbody>\n",
       "</table>\n",
       "<p>150 rows × 4 columns</p>\n",
       "</div>"
      ],
      "text/plain": [
       "       Unnamed: 0  batch_number      loss  accuracy\n",
       "epoch                                              \n",
       "1.0           2.5           3.5  2.395594  0.625302\n",
       "2.0           8.5           3.5  0.584559  0.749380\n",
       "3.0          14.5           3.5  0.353168  0.846435\n",
       "4.0          20.5           3.5  0.326295  0.862309\n",
       "5.0          26.5           3.5  0.220578  0.913973\n",
       "...           ...           ...       ...       ...\n",
       "146.0       872.5           3.5  0.000074  1.000000\n",
       "147.0       878.5           3.5  0.000074  1.000000\n",
       "148.0       884.5           3.5  0.000074  1.000000\n",
       "149.0       890.5           3.5  0.000073  1.000000\n",
       "150.0       896.5           3.5  0.000073  1.000000\n",
       "\n",
       "[150 rows x 4 columns]"
      ]
     },
     "execution_count": 37,
     "metadata": {},
     "output_type": "execute_result"
    }
   ],
   "source": [
    "epoch_df = train_df.groupby('epoch')\n",
    "test_epoch_df = test_df.groupby('epoch')\n",
    "epoch_df.mean()"
   ]
  },
  {
   "cell_type": "code",
   "execution_count": 38,
   "id": "06c09757-7b95-4cf3-949d-3b52a4125072",
   "metadata": {},
   "outputs": [
    {
     "data": {
      "text/plain": [
       "[<matplotlib.lines.Line2D at 0x7f59c70678b0>]"
      ]
     },
     "execution_count": 38,
     "metadata": {},
     "output_type": "execute_result"
    },
    {
     "data": {
      "image/png": "[encoded data removed]",
      "text/plain": [
       "<Figure size 432x288 with 1 Axes>"
      ]
     },
     "metadata": {
      "needs_background": "light"
     },
     "output_type": "display_data"
    }
   ],
   "source": [
    "plt.plot(epoch_df.mean()['accuracy'], label='training accuracy')\n",
    "plt.plot(test_epoch_df.mean()['accuracy'], label='testing accuracy')"
   ]
  },
  {
   "cell_type": "code",
   "execution_count": 40,
   "id": "6c34e1dc-04cc-4508-862b-46728834a910",
   "metadata": {},
   "outputs": [
    {
     "data": {
      "text/plain": [
       "0.9822617142857143"
      ]
     },
     "execution_count": 40,
     "metadata": {},
     "output_type": "execute_result"
    }
   ],
   "source": [
    "test_epoch_df.mean()['accuracy'].mean()"
   ]
  },
  {
   "cell_type": "code",
   "execution_count": 41,
   "id": "e03cc329-8bd2-4be4-97cf-0bd13212e49f",
   "metadata": {},
   "outputs": [
    {
     "data": {
      "text/plain": [
       "0.9825880867724868"
      ]
     },
     "execution_count": 41,
     "metadata": {},
     "output_type": "execute_result"
    }
   ],
   "source": [
    "epoch_df.mean()['accuracy'].mean()"
   ]
  },
  {
   "cell_type": "code",
   "execution_count": null,
   "id": "c4d728c0-d508-4fa2-be74-bdd89ebf0b3d",
   "metadata": {},
   "outputs": [],
   "source": []
  }
 ],
 "metadata": {
  "kernelspec": {
   "display_name": "Python 3 (ipykernel)",
   "language": "python",
   "name": "python3"
  },
  "language_info": {
   "codemirror_mode": {
    "name": "ipython",
    "version": 3
   },
   "file_extension": ".py",
   "mimetype": "text/x-python",
   "name": "python",
   "nbconvert_exporter": "python",
   "pygments_lexer": "ipython3",
   "version": "3.9.7"
  }
 },
 "nbformat": 4,
 "nbformat_minor": 5
}
