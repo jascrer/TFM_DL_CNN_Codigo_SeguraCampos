{
 "cells": [
  {
   "cell_type": "code",
   "execution_count": 2,
   "id": "9b9a7cce-7e9c-40d6-b3db-62fc4265e185",
   "metadata": {},
   "outputs": [],
   "source": [
    "import pandas as pd\n",
    "import matplotlib.pyplot as plt"
   ]
  },
  {
   "cell_type": "code",
   "execution_count": 3,
   "id": "a5cc6d6f-f99a-40e0-bf73-b039c24e7061",
   "metadata": {},
   "outputs": [
    {
     "data": {
      "text/html": [
       "<div>\n",
       "<style scoped>\n",
       "    .dataframe tbody tr th:only-of-type {\n",
       "        vertical-align: middle;\n",
       "    }\n",
       "\n",
       "    .dataframe tbody tr th {\n",
       "        vertical-align: top;\n",
       "    }\n",
       "\n",
       "    .dataframe thead th {\n",
       "        text-align: right;\n",
       "    }\n",
       "</style>\n",
       "<table border=\"1\" class=\"dataframe\">\n",
       "  <thead>\n",
       "    <tr style=\"text-align: right;\">\n",
       "      <th></th>\n",
       "      <th>Unnamed: 0</th>\n",
       "      <th>epoch</th>\n",
       "      <th>batch_number</th>\n",
       "      <th>loss</th>\n",
       "      <th>accuracy</th>\n",
       "    </tr>\n",
       "  </thead>\n",
       "  <tbody>\n",
       "    <tr>\n",
       "      <th>0</th>\n",
       "      <td>0</td>\n",
       "      <td>1.0</td>\n",
       "      <td>1.0</td>\n",
       "      <td>0.691118</td>\n",
       "      <td>0.7280</td>\n",
       "    </tr>\n",
       "    <tr>\n",
       "      <th>1</th>\n",
       "      <td>1</td>\n",
       "      <td>1.0</td>\n",
       "      <td>2.0</td>\n",
       "      <td>50.601528</td>\n",
       "      <td>0.7340</td>\n",
       "    </tr>\n",
       "    <tr>\n",
       "      <th>2</th>\n",
       "      <td>2</td>\n",
       "      <td>1.0</td>\n",
       "      <td>3.0</td>\n",
       "      <td>0.625463</td>\n",
       "      <td>0.7520</td>\n",
       "    </tr>\n",
       "    <tr>\n",
       "      <th>3</th>\n",
       "      <td>3</td>\n",
       "      <td>1.0</td>\n",
       "      <td>4.0</td>\n",
       "      <td>0.677071</td>\n",
       "      <td>0.7470</td>\n",
       "    </tr>\n",
       "    <tr>\n",
       "      <th>4</th>\n",
       "      <td>4</td>\n",
       "      <td>1.0</td>\n",
       "      <td>5.0</td>\n",
       "      <td>0.679479</td>\n",
       "      <td>0.7504</td>\n",
       "    </tr>\n",
       "  </tbody>\n",
       "</table>\n",
       "</div>"
      ],
      "text/plain": [
       "   Unnamed: 0  epoch  batch_number       loss  accuracy\n",
       "0           0    1.0           1.0   0.691118    0.7280\n",
       "1           1    1.0           2.0  50.601528    0.7340\n",
       "2           2    1.0           3.0   0.625463    0.7520\n",
       "3           3    1.0           4.0   0.677071    0.7470\n",
       "4           4    1.0           5.0   0.679479    0.7504"
      ]
     },
     "execution_count": 3,
     "metadata": {},
     "output_type": "execute_result"
    }
   ],
   "source": [
    "train_df = pd.read_csv('../data/processed/alex_flip//train.csv')\n",
    "test_df = pd.read_csv('../data/processed/alex_flip//test.csv')\n",
    "train_df.head()"
   ]
  },
  {
   "cell_type": "code",
   "execution_count": 4,
   "id": "7bd0f8ba-d0fe-4a51-9fc9-afdc0b9ba86b",
   "metadata": {},
   "outputs": [
    {
     "data": {
      "text/html": [
       "<div>\n",
       "<style scoped>\n",
       "    .dataframe tbody tr th:only-of-type {\n",
       "        vertical-align: middle;\n",
       "    }\n",
       "\n",
       "    .dataframe tbody tr th {\n",
       "        vertical-align: top;\n",
       "    }\n",
       "\n",
       "    .dataframe thead th {\n",
       "        text-align: right;\n",
       "    }\n",
       "</style>\n",
       "<table border=\"1\" class=\"dataframe\">\n",
       "  <thead>\n",
       "    <tr style=\"text-align: right;\">\n",
       "      <th></th>\n",
       "      <th>Unnamed: 0</th>\n",
       "      <th>epoch</th>\n",
       "      <th>batch_number</th>\n",
       "      <th>loss</th>\n",
       "      <th>accuracy</th>\n",
       "    </tr>\n",
       "  </thead>\n",
       "  <tbody>\n",
       "    <tr>\n",
       "      <th>0</th>\n",
       "      <td>0</td>\n",
       "      <td>1.0</td>\n",
       "      <td>1.0</td>\n",
       "      <td>0.105204</td>\n",
       "      <td>0.956000</td>\n",
       "    </tr>\n",
       "    <tr>\n",
       "      <th>1</th>\n",
       "      <td>1</td>\n",
       "      <td>1.0</td>\n",
       "      <td>2.0</td>\n",
       "      <td>0.193103</td>\n",
       "      <td>0.936000</td>\n",
       "    </tr>\n",
       "    <tr>\n",
       "      <th>2</th>\n",
       "      <td>2</td>\n",
       "      <td>1.0</td>\n",
       "      <td>3.0</td>\n",
       "      <td>0.154662</td>\n",
       "      <td>0.942667</td>\n",
       "    </tr>\n",
       "    <tr>\n",
       "      <th>3</th>\n",
       "      <td>3</td>\n",
       "      <td>1.0</td>\n",
       "      <td>4.0</td>\n",
       "      <td>0.155606</td>\n",
       "      <td>0.943000</td>\n",
       "    </tr>\n",
       "    <tr>\n",
       "      <th>4</th>\n",
       "      <td>4</td>\n",
       "      <td>1.0</td>\n",
       "      <td>5.0</td>\n",
       "      <td>0.134950</td>\n",
       "      <td>0.944800</td>\n",
       "    </tr>\n",
       "  </tbody>\n",
       "</table>\n",
       "</div>"
      ],
      "text/plain": [
       "   Unnamed: 0  epoch  batch_number      loss  accuracy\n",
       "0           0    1.0           1.0  0.105204  0.956000\n",
       "1           1    1.0           2.0  0.193103  0.936000\n",
       "2           2    1.0           3.0  0.154662  0.942667\n",
       "3           3    1.0           4.0  0.155606  0.943000\n",
       "4           4    1.0           5.0  0.134950  0.944800"
      ]
     },
     "execution_count": 4,
     "metadata": {},
     "output_type": "execute_result"
    }
   ],
   "source": [
    "test_df.head()"
   ]
  },
  {
   "cell_type": "code",
   "execution_count": 5,
   "id": "f0ef9ae5-5bb2-4288-b571-2e83c1586767",
   "metadata": {},
   "outputs": [
    {
     "data": {
      "text/plain": [
       "<matplotlib.legend.Legend at 0x7fee7a532130>"
      ]
     },
     "execution_count": 5,
     "metadata": {},
     "output_type": "execute_result"
    },
    {
     "data": {
      "image/png": "[encoded data removed]",
      "text/plain": [
       "<Figure size 432x288 with 1 Axes>"
      ]
     },
     "metadata": {
      "needs_background": "light"
     },
     "output_type": "display_data"
    }
   ],
   "source": [
    "plt.plot(train_df['accuracy'], label='training accuracy')\n",
    "plt.plot(test_df['accuracy'], label='testing accuracy')\n",
    "plt.legend()"
   ]
  },
  {
   "cell_type": "code",
   "execution_count": 6,
   "id": "a5bf399f-270d-4ff0-ad9b-593ebf7fde17",
   "metadata": {},
   "outputs": [
    {
     "data": {
      "text/plain": [
       "<matplotlib.legend.Legend at 0x7fee79ce5160>"
      ]
     },
     "execution_count": 6,
     "metadata": {},
     "output_type": "execute_result"
    },
    {
     "data": {
      "image/png": "[encoded data removed]",
      "text/plain": [
       "<Figure size 432x288 with 1 Axes>"
      ]
     },
     "metadata": {
      "needs_background": "light"
     },
     "output_type": "display_data"
    }
   ],
   "source": [
    "plt.plot(train_df['loss'], label='training loss')\n",
    "plt.plot(test_df['loss'], label='testing loss')\n",
    "plt.legend()"
   ]
  },
  {
   "cell_type": "code",
   "execution_count": 7,
   "id": "7325fb09-9293-4f44-80ee-02e286f05cbc",
   "metadata": {},
   "outputs": [
    {
     "data": {
      "text/html": [
       "<div>\n",
       "<style scoped>\n",
       "    .dataframe tbody tr th:only-of-type {\n",
       "        vertical-align: middle;\n",
       "    }\n",
       "\n",
       "    .dataframe tbody tr th {\n",
       "        vertical-align: top;\n",
       "    }\n",
       "\n",
       "    .dataframe thead th {\n",
       "        text-align: right;\n",
       "    }\n",
       "</style>\n",
       "<table border=\"1\" class=\"dataframe\">\n",
       "  <thead>\n",
       "    <tr style=\"text-align: right;\">\n",
       "      <th></th>\n",
       "      <th>Unnamed: 0</th>\n",
       "      <th>epoch</th>\n",
       "      <th>batch_number</th>\n",
       "      <th>loss</th>\n",
       "      <th>accuracy</th>\n",
       "    </tr>\n",
       "  </thead>\n",
       "  <tbody>\n",
       "    <tr>\n",
       "      <th>count</th>\n",
       "      <td>8400.000000</td>\n",
       "      <td>8400.000000</td>\n",
       "      <td>8400.000000</td>\n",
       "      <td>8400.000000</td>\n",
       "      <td>8400.000000</td>\n",
       "    </tr>\n",
       "    <tr>\n",
       "      <th>mean</th>\n",
       "      <td>4199.500000</td>\n",
       "      <td>75.500000</td>\n",
       "      <td>28.500000</td>\n",
       "      <td>0.037007</td>\n",
       "      <td>0.988124</td>\n",
       "    </tr>\n",
       "    <tr>\n",
       "      <th>std</th>\n",
       "      <td>2425.015464</td>\n",
       "      <td>43.302886</td>\n",
       "      <td>16.164192</td>\n",
       "      <td>0.553778</td>\n",
       "      <td>0.021453</td>\n",
       "    </tr>\n",
       "    <tr>\n",
       "      <th>min</th>\n",
       "      <td>0.000000</td>\n",
       "      <td>1.000000</td>\n",
       "      <td>1.000000</td>\n",
       "      <td>0.000015</td>\n",
       "      <td>0.728000</td>\n",
       "    </tr>\n",
       "    <tr>\n",
       "      <th>25%</th>\n",
       "      <td>2099.750000</td>\n",
       "      <td>38.000000</td>\n",
       "      <td>14.750000</td>\n",
       "      <td>0.008331</td>\n",
       "      <td>0.988921</td>\n",
       "    </tr>\n",
       "    <tr>\n",
       "      <th>50%</th>\n",
       "      <td>4199.500000</td>\n",
       "      <td>75.500000</td>\n",
       "      <td>28.500000</td>\n",
       "      <td>0.017982</td>\n",
       "      <td>0.993191</td>\n",
       "    </tr>\n",
       "    <tr>\n",
       "      <th>75%</th>\n",
       "      <td>6299.250000</td>\n",
       "      <td>113.000000</td>\n",
       "      <td>42.250000</td>\n",
       "      <td>0.035496</td>\n",
       "      <td>0.995556</td>\n",
       "    </tr>\n",
       "    <tr>\n",
       "      <th>max</th>\n",
       "      <td>8399.000000</td>\n",
       "      <td>150.000000</td>\n",
       "      <td>56.000000</td>\n",
       "      <td>50.601528</td>\n",
       "      <td>1.000000</td>\n",
       "    </tr>\n",
       "  </tbody>\n",
       "</table>\n",
       "</div>"
      ],
      "text/plain": [
       "        Unnamed: 0        epoch  batch_number         loss     accuracy\n",
       "count  8400.000000  8400.000000   8400.000000  8400.000000  8400.000000\n",
       "mean   4199.500000    75.500000     28.500000     0.037007     0.988124\n",
       "std    2425.015464    43.302886     16.164192     0.553778     0.021453\n",
       "min       0.000000     1.000000      1.000000     0.000015     0.728000\n",
       "25%    2099.750000    38.000000     14.750000     0.008331     0.988921\n",
       "50%    4199.500000    75.500000     28.500000     0.017982     0.993191\n",
       "75%    6299.250000   113.000000     42.250000     0.035496     0.995556\n",
       "max    8399.000000   150.000000     56.000000    50.601528     1.000000"
      ]
     },
     "execution_count": 7,
     "metadata": {},
     "output_type": "execute_result"
    }
   ],
   "source": [
    "train_df.describe()"
   ]
  },
  {
   "cell_type": "code",
   "execution_count": 8,
   "id": "adbfced3-3fd3-4061-9fe9-36b6f72e5dc5",
   "metadata": {},
   "outputs": [
    {
     "data": {
      "text/html": [
       "<div>\n",
       "<style scoped>\n",
       "    .dataframe tbody tr th:only-of-type {\n",
       "        vertical-align: middle;\n",
       "    }\n",
       "\n",
       "    .dataframe tbody tr th {\n",
       "        vertical-align: top;\n",
       "    }\n",
       "\n",
       "    .dataframe thead th {\n",
       "        text-align: right;\n",
       "    }\n",
       "</style>\n",
       "<table border=\"1\" class=\"dataframe\">\n",
       "  <thead>\n",
       "    <tr style=\"text-align: right;\">\n",
       "      <th></th>\n",
       "      <th>Unnamed: 0</th>\n",
       "      <th>epoch</th>\n",
       "      <th>batch_number</th>\n",
       "      <th>loss</th>\n",
       "      <th>accuracy</th>\n",
       "    </tr>\n",
       "  </thead>\n",
       "  <tbody>\n",
       "    <tr>\n",
       "      <th>count</th>\n",
       "      <td>2100.000000</td>\n",
       "      <td>2100.000000</td>\n",
       "      <td>2100.000000</td>\n",
       "      <td>2100.000000</td>\n",
       "      <td>2100.000000</td>\n",
       "    </tr>\n",
       "    <tr>\n",
       "      <th>mean</th>\n",
       "      <td>1049.500000</td>\n",
       "      <td>75.500000</td>\n",
       "      <td>7.500000</td>\n",
       "      <td>0.051935</td>\n",
       "      <td>0.988599</td>\n",
       "    </tr>\n",
       "    <tr>\n",
       "      <th>std</th>\n",
       "      <td>606.362103</td>\n",
       "      <td>43.310621</td>\n",
       "      <td>4.032089</td>\n",
       "      <td>0.065379</td>\n",
       "      <td>0.011188</td>\n",
       "    </tr>\n",
       "    <tr>\n",
       "      <th>min</th>\n",
       "      <td>0.000000</td>\n",
       "      <td>1.000000</td>\n",
       "      <td>1.000000</td>\n",
       "      <td>0.000006</td>\n",
       "      <td>0.892000</td>\n",
       "    </tr>\n",
       "    <tr>\n",
       "      <th>25%</th>\n",
       "      <td>524.750000</td>\n",
       "      <td>38.000000</td>\n",
       "      <td>4.000000</td>\n",
       "      <td>0.010730</td>\n",
       "      <td>0.987000</td>\n",
       "    </tr>\n",
       "    <tr>\n",
       "      <th>50%</th>\n",
       "      <td>1049.500000</td>\n",
       "      <td>75.500000</td>\n",
       "      <td>7.500000</td>\n",
       "      <td>0.030641</td>\n",
       "      <td>0.991385</td>\n",
       "    </tr>\n",
       "    <tr>\n",
       "      <th>75%</th>\n",
       "      <td>1574.250000</td>\n",
       "      <td>113.000000</td>\n",
       "      <td>11.000000</td>\n",
       "      <td>0.064911</td>\n",
       "      <td>0.994000</td>\n",
       "    </tr>\n",
       "    <tr>\n",
       "      <th>max</th>\n",
       "      <td>2099.000000</td>\n",
       "      <td>150.000000</td>\n",
       "      <td>14.000000</td>\n",
       "      <td>0.547155</td>\n",
       "      <td>1.000000</td>\n",
       "    </tr>\n",
       "  </tbody>\n",
       "</table>\n",
       "</div>"
      ],
      "text/plain": [
       "        Unnamed: 0        epoch  batch_number         loss     accuracy\n",
       "count  2100.000000  2100.000000   2100.000000  2100.000000  2100.000000\n",
       "mean   1049.500000    75.500000      7.500000     0.051935     0.988599\n",
       "std     606.362103    43.310621      4.032089     0.065379     0.011188\n",
       "min       0.000000     1.000000      1.000000     0.000006     0.892000\n",
       "25%     524.750000    38.000000      4.000000     0.010730     0.987000\n",
       "50%    1049.500000    75.500000      7.500000     0.030641     0.991385\n",
       "75%    1574.250000   113.000000     11.000000     0.064911     0.994000\n",
       "max    2099.000000   150.000000     14.000000     0.547155     1.000000"
      ]
     },
     "execution_count": 8,
     "metadata": {},
     "output_type": "execute_result"
    }
   ],
   "source": [
    "test_df.describe()"
   ]
  },
  {
   "cell_type": "code",
   "execution_count": 9,
   "id": "383bcdfc-e676-4416-8cf7-9e8f63d9a5d3",
   "metadata": {},
   "outputs": [
    {
     "data": {
      "text/html": [
       "<div>\n",
       "<style scoped>\n",
       "    .dataframe tbody tr th:only-of-type {\n",
       "        vertical-align: middle;\n",
       "    }\n",
       "\n",
       "    .dataframe tbody tr th {\n",
       "        vertical-align: top;\n",
       "    }\n",
       "\n",
       "    .dataframe thead th {\n",
       "        text-align: right;\n",
       "    }\n",
       "</style>\n",
       "<table border=\"1\" class=\"dataframe\">\n",
       "  <thead>\n",
       "    <tr style=\"text-align: right;\">\n",
       "      <th></th>\n",
       "      <th>Unnamed: 0</th>\n",
       "      <th>batch_number</th>\n",
       "      <th>loss</th>\n",
       "      <th>accuracy</th>\n",
       "    </tr>\n",
       "    <tr>\n",
       "      <th>epoch</th>\n",
       "      <th></th>\n",
       "      <th></th>\n",
       "      <th></th>\n",
       "      <th></th>\n",
       "    </tr>\n",
       "  </thead>\n",
       "  <tbody>\n",
       "    <tr>\n",
       "      <th>1.0</th>\n",
       "      <td>27.5</td>\n",
       "      <td>28.5</td>\n",
       "      <td>1.298679</td>\n",
       "      <td>0.774449</td>\n",
       "    </tr>\n",
       "    <tr>\n",
       "      <th>2.0</th>\n",
       "      <td>83.5</td>\n",
       "      <td>28.5</td>\n",
       "      <td>0.213740</td>\n",
       "      <td>0.911417</td>\n",
       "    </tr>\n",
       "    <tr>\n",
       "      <th>3.0</th>\n",
       "      <td>139.5</td>\n",
       "      <td>28.5</td>\n",
       "      <td>0.167460</td>\n",
       "      <td>0.926685</td>\n",
       "    </tr>\n",
       "    <tr>\n",
       "      <th>4.0</th>\n",
       "      <td>195.5</td>\n",
       "      <td>28.5</td>\n",
       "      <td>0.139375</td>\n",
       "      <td>0.942695</td>\n",
       "    </tr>\n",
       "    <tr>\n",
       "      <th>5.0</th>\n",
       "      <td>251.5</td>\n",
       "      <td>28.5</td>\n",
       "      <td>0.114823</td>\n",
       "      <td>0.954090</td>\n",
       "    </tr>\n",
       "    <tr>\n",
       "      <th>...</th>\n",
       "      <td>...</td>\n",
       "      <td>...</td>\n",
       "      <td>...</td>\n",
       "      <td>...</td>\n",
       "    </tr>\n",
       "    <tr>\n",
       "      <th>146.0</th>\n",
       "      <td>8147.5</td>\n",
       "      <td>28.5</td>\n",
       "      <td>0.009463</td>\n",
       "      <td>0.996515</td>\n",
       "    </tr>\n",
       "    <tr>\n",
       "      <th>147.0</th>\n",
       "      <td>8203.5</td>\n",
       "      <td>28.5</td>\n",
       "      <td>0.007597</td>\n",
       "      <td>0.997442</td>\n",
       "    </tr>\n",
       "    <tr>\n",
       "      <th>148.0</th>\n",
       "      <td>8259.5</td>\n",
       "      <td>28.5</td>\n",
       "      <td>0.009679</td>\n",
       "      <td>0.995737</td>\n",
       "    </tr>\n",
       "    <tr>\n",
       "      <th>149.0</th>\n",
       "      <td>8315.5</td>\n",
       "      <td>28.5</td>\n",
       "      <td>0.009822</td>\n",
       "      <td>0.996440</td>\n",
       "    </tr>\n",
       "    <tr>\n",
       "      <th>150.0</th>\n",
       "      <td>8371.5</td>\n",
       "      <td>28.5</td>\n",
       "      <td>0.010026</td>\n",
       "      <td>0.997092</td>\n",
       "    </tr>\n",
       "  </tbody>\n",
       "</table>\n",
       "<p>150 rows × 4 columns</p>\n",
       "</div>"
      ],
      "text/plain": [
       "       Unnamed: 0  batch_number      loss  accuracy\n",
       "epoch                                              \n",
       "1.0          27.5          28.5  1.298679  0.774449\n",
       "2.0          83.5          28.5  0.213740  0.911417\n",
       "3.0         139.5          28.5  0.167460  0.926685\n",
       "4.0         195.5          28.5  0.139375  0.942695\n",
       "5.0         251.5          28.5  0.114823  0.954090\n",
       "...           ...           ...       ...       ...\n",
       "146.0      8147.5          28.5  0.009463  0.996515\n",
       "147.0      8203.5          28.5  0.007597  0.997442\n",
       "148.0      8259.5          28.5  0.009679  0.995737\n",
       "149.0      8315.5          28.5  0.009822  0.996440\n",
       "150.0      8371.5          28.5  0.010026  0.997092\n",
       "\n",
       "[150 rows x 4 columns]"
      ]
     },
     "execution_count": 9,
     "metadata": {},
     "output_type": "execute_result"
    }
   ],
   "source": [
    "epoch_df = train_df.groupby('epoch')\n",
    "test_epoch_df = test_df.groupby('epoch')\n",
    "epoch_df.mean()"
   ]
  },
  {
   "cell_type": "code",
   "execution_count": 10,
   "id": "06c09757-7b95-4cf3-949d-3b52a4125072",
   "metadata": {},
   "outputs": [
    {
     "data": {
      "text/plain": [
       "[<matplotlib.lines.Line2D at 0x7fee79bfad90>]"
      ]
     },
     "execution_count": 10,
     "metadata": {},
     "output_type": "execute_result"
    },
    {
     "data": {
      "image/png": "[encoded data removed]",
      "text/plain": [
       "<Figure size 432x288 with 1 Axes>"
      ]
     },
     "metadata": {
      "needs_background": "light"
     },
     "output_type": "display_data"
    }
   ],
   "source": [
    "plt.plot(epoch_df.mean()['accuracy'], label='training accuracy')\n",
    "plt.plot(test_epoch_df.mean()['accuracy'], label='testing accuracy')"
   ]
  },
  {
   "cell_type": "code",
   "execution_count": 11,
   "id": "6c34e1dc-04cc-4508-862b-46728834a910",
   "metadata": {},
   "outputs": [
    {
     "data": {
      "text/plain": [
       "0.9885988553351408"
      ]
     },
     "execution_count": 11,
     "metadata": {},
     "output_type": "execute_result"
    }
   ],
   "source": [
    "test_epoch_df.mean()['accuracy'].mean()"
   ]
  },
  {
   "cell_type": "code",
   "execution_count": 12,
   "id": "e03cc329-8bd2-4be4-97cf-0bd13212e49f",
   "metadata": {},
   "outputs": [
    {
     "data": {
      "text/plain": [
       "0.9881243507750268"
      ]
     },
     "execution_count": 12,
     "metadata": {},
     "output_type": "execute_result"
    }
   ],
   "source": [
    "epoch_df.mean()['accuracy'].mean()"
   ]
  },
  {
   "cell_type": "code",
   "execution_count": null,
   "id": "c4d728c0-d508-4fa2-be74-bdd89ebf0b3d",
   "metadata": {},
   "outputs": [],
   "source": []
  }
 ],
 "metadata": {
  "kernelspec": {
   "display_name": "Python 3 (ipykernel)",
   "language": "python",
   "name": "python3"
  },
  "language_info": {
   "codemirror_mode": {
    "name": "ipython",
    "version": 3
   },
   "file_extension": ".py",
   "mimetype": "text/x-python",
   "name": "python",
   "nbconvert_exporter": "python",
   "pygments_lexer": "ipython3",
   "version": "3.9.7"
  }
 },
 "nbformat": 4,
 "nbformat_minor": 5
}
