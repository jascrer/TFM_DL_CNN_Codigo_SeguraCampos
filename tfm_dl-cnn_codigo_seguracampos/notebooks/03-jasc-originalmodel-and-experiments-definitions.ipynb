{
 "cells": [
  {
   "cell_type": "markdown",
   "id": "94b1680e-ee02-47a1-a4a6-2fb565451674",
   "metadata": {},
   "source": [
    "# Original Experiment Model\n",
    "In section 4 of their paper, (E. López-Jiménez, et al., 2019), defined the model for the Convolutional Neural Network they were going to use for the cactus recognition. They defined the model as modified version of LeNet-5, a network originally proposed by LeCun et al. (LeCun et al., 1998). This modified version was denoted by the greek letter $\\Phi$.\n",
    "The model was \"configured as follows. It receives an input 3-channel image with resolution 32x32x32. Then, 6 convolution filters with size 5x5 are applied with stride one. Next, a max pooling operation is performed, using a kernel of 2x2 and stride two. Then, a new set of 16 convolution kernels with size 5x5 and stride one is applied. Again a max pooling operation is performed using a kernel of 2x2 and stride two, Next, the features are flattened to a one dimension vector of size 400. Later, three fully connected layers are applied with 120, 84, and 2 nodes respectively. Until this point, the output of the CNN is a vector of real numbers called logits. Therefore, a *LogSoftMax* function is applied to convert the logits into a normalized probability distribution\"(E. López-Jiménez, et al., 2019)."
   ]
  },
  {
   "cell_type": "code",
   "execution_count": 2,
   "id": "4d58e842-3308-4b6e-b78e-0f4057c95457",
   "metadata": {},
   "outputs": [],
   "source": [
    "from torch import nn\n",
    "\n",
    "\n",
    "class PhiLetnet(nn.Module):\n",
    "    \"\"\"\n",
    "    The custom LetNet-5 CNN described in the article, defined with the greek letter PHI\n",
    "    \"\"\"\n",
    "\n",
    "    def __init__(self) -> None:\n",
    "        super().__init__()\n",
    "        self.features = nn.Sequential(\n",
    "            nn.Conv2d(in_channels=3, out_channels=6, kernel_size=5, stride= 1),\n",
    "            nn.MaxPool2d(kernel_size=2, stride=2),\n",
    "            nn.Conv2d(in_channels=6, out_channels=16, kernel_size=5, stride= 1),\n",
    "            nn.MaxPool2d(kernel_size=2, stride=2)\n",
    "        )\n",
    "        self.flatten = nn.Flatten()\n",
    "        self.classifier = nn.Sequential(\n",
    "            nn.Linear(in_features=400, out_features=120),\n",
    "            nn.Linear(in_features=120, out_features=84),\n",
    "            nn.Linear(in_features=84, out_features=2),\n",
    "            nn.LogSoftmax(dim=1)\n",
    "        )\n",
    "\n",
    "    def forward(self, x_parameter):\n",
    "        \"\"\"\n",
    "        Data processing method\n",
    "        \"\"\"\n",
    "        x_parameter = self.features(x_parameter)\n",
    "        x_parameter = self.flatten(x_parameter)\n",
    "        x_parameter = self.classifier(x_parameter)\n",
    "        return x_parameter"
   ]
  },
  {
   "cell_type": "markdown",
   "id": "1ae87ce4-541a-4d6e-a572-3dc4edc5d1e5",
   "metadata": {},
   "source": [
    "The class was named PhiLetNet as it is the customized LetNet denominated by the letter $\\Phi$.\n",
    "\n",
    "In the class constructor, the class defines 3 properties called features, flatten and classifier.\n",
    "\n",
    "**Features** contains the definition for the convolutional and max pooling layers.\n",
    "**Flatten** defines the flattening layer specified before the fully connected layers.\n",
    "**Classifier** contains the three fully connected layers with the specified inputs and lastly a LogSoftmax function that is applied to the output of the fully connected layers to provide the normalized probability distribution as a result like in the definition of E. López-Jiménez, et al.\n",
    "\n",
    "~~Explain Forward~~\n",
    "\n",
    "## Experiment executions\n",
    "### Using paper specifications"
   ]
  },
  {
   "cell_type": "code",
   "execution_count": null,
   "id": "d7afd43e-7b5c-4b72-9145-3cb162f08e4d",
   "metadata": {},
   "outputs": [],
   "source": []
  },
  {
   "cell_type": "markdown",
   "id": "10098610-6279-48a8-ae00-f3afcde36c9e",
   "metadata": {},
   "source": [
    "### Using modified specifications"
   ]
  },
  {
   "cell_type": "code",
   "execution_count": null,
   "id": "79a95d0d-39f2-4b92-8fb8-f423c027982d",
   "metadata": {},
   "outputs": [],
   "source": []
  },
  {
   "cell_type": "markdown",
   "id": "b4c439c2-30af-4e02-a901-b9e85ce2d84e",
   "metadata": {},
   "source": [
    "# References\n",
    "* López-Jiménez, Efren; Vasquez-Gomez, Juan Irving; Sanchez-Acevedo, Miguel Angel; Herrera-Lozada, Juan Carlos; Uriarte-Arcia, Abril Valeria (2019); “Columnar Cactus Recognition in Aerial Images using a Deep Learning Approach”. Ecological Informatics. 52. 131-138.\n",
    "* LeCun, Y., Bottou, L., Bengio, Y., Haffner, P., 1998. Gradient-based learning applied to document recognition. Proc. IEEE 86 (11), 2278–2324."
   ]
  }
 ],
 "metadata": {
  "kernelspec": {
   "display_name": "Python 3 (ipykernel)",
   "language": "python",
   "name": "python3"
  },
  "language_info": {
   "codemirror_mode": {
    "name": "ipython",
    "version": 3
   },
   "file_extension": ".py",
   "mimetype": "text/x-python",
   "name": "python",
   "nbconvert_exporter": "python",
   "pygments_lexer": "ipython3",
   "version": "3.9.7"
  }
 },
 "nbformat": 4,
 "nbformat_minor": 5
}
