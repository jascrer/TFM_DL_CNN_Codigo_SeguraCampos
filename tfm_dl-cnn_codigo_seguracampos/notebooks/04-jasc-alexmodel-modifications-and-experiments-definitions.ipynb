{
 "cells": [
  {
   "cell_type": "markdown",
   "id": "82cdfdc9-c04b-4987-ac77-65057326f9a5",
   "metadata": {},
   "source": [
    "# AlexNet Model"
   ]
  },
  {
   "cell_type": "code",
   "execution_count": null,
   "id": "53b57caf-5968-4760-b24f-0b02fb7d4034",
   "metadata": {},
   "outputs": [],
   "source": [
    "from torch import nn\n",
    "\n",
    "\n",
    "class AlexNet(nn.Module):\n",
    "    \"\"\"\n",
    "    This is the definition of the AlexNet which will be compared to the Phi-LetNet-5.\n",
    "    This AlexNet will be modified in order to classify just two classes.\n",
    "    \"\"\"\n",
    "    def __init__(self) -> None:\n",
    "        super().__init__()\n",
    "        self.features = nn.Sequential(\n",
    "            nn.Conv2d(in_channels=3, out_channels=96, kernel_size=11, stride=4),\n",
    "            nn.ReLU(inplace=True),\n",
    "            nn.MaxPool2d(kernel_size=3,stride=2),\n",
    "            nn.Conv2d(in_channels=96, out_channels=256, kernel_size=5, stride=1, padding=2),\n",
    "            nn.ReLU(inplace=True),\n",
    "            nn.MaxPool2d(kernel_size=3, stride=2),\n",
    "            nn.Conv2d(in_channels=256, out_channels=384, kernel_size=3, stride=1, padding=1),\n",
    "            nn.ReLU(inplace=True),\n",
    "            nn.Conv2d(in_channels=384, out_channels=384, kernel_size=3, stride=1, padding=1),\n",
    "            nn.ReLU(inplace=True),\n",
    "            nn.Conv2d(in_channels=384, out_channels=256, kernel_size=3, stride=1, padding=1),\n",
    "            nn.ReLU(inplace=True),\n",
    "            nn.MaxPool2d(kernel_size=3, stride=2)\n",
    "        )\n",
    "        self.flatten = nn.Flatten()\n",
    "        self.classifier = nn.Sequential(\n",
    "            nn.Dropout(p=0.5),\n",
    "            nn.Linear(in_features=6400, out_features=4096),\n",
    "            nn.ReLU(inplace=True),\n",
    "            nn.Dropout(p=0.5),\n",
    "            nn.Linear(in_features=4096,out_features=4096),\n",
    "            nn.ReLU(inplace=True),\n",
    "            nn.Linear(in_features=4096, out_features=2),\n",
    "            nn.LogSoftmax(dim=1)\n",
    "        )\n",
    "\n",
    "    def forward(self, x_parameter):\n",
    "        \"\"\"\n",
    "        Data processing method\n",
    "        \"\"\"\n",
    "        x_parameter = self.features(x_parameter)\n",
    "        x_parameter = self.flatten(x_parameter)\n",
    "        x_parameter = self.classifier(x_parameter)\n",
    "        return x_parameter"
   ]
  },
  {
   "cell_type": "markdown",
   "id": "0b2e02eb-6308-4555-bf98-0609bd4e7cf8",
   "metadata": {},
   "source": [
    "~~Explain the definition of the class~~\n",
    "~~Explain the forward method~~\n",
    "\n",
    "## Experiment executions\n",
    "### Using paper specifications"
   ]
  },
  {
   "cell_type": "code",
   "execution_count": null,
   "id": "33f0c02c-1975-4354-b7f4-f2f31da3b4b5",
   "metadata": {},
   "outputs": [],
   "source": []
  },
  {
   "cell_type": "markdown",
   "id": "73da9e04-e506-47d1-a2b1-a6affeaa8b53",
   "metadata": {},
   "source": [
    "### Using modified specifications"
   ]
  },
  {
   "cell_type": "code",
   "execution_count": null,
   "id": "3a4cb543-d21f-4544-b481-4bb1880d3e45",
   "metadata": {},
   "outputs": [],
   "source": []
  },
  {
   "cell_type": "markdown",
   "id": "fae977b7-86cf-4ad5-884a-5fa21b0648ae",
   "metadata": {},
   "source": [
    "# References\n",
    "* López-Jiménez, Efren; Vasquez-Gomez, Juan Irving; Sanchez-Acevedo, Miguel Angel; Herrera-Lozada, Juan Carlos; Uriarte-Arcia, Abril Valeria (2019); “Columnar Cactus Recognition in Aerial Images using a Deep Learning Approach”. Ecological Informatics. 52. 131-138."
   ]
  }
 ],
 "metadata": {
  "kernelspec": {
   "display_name": "Python 3 (ipykernel)",
   "language": "python",
   "name": "python3"
  },
  "language_info": {
   "codemirror_mode": {
    "name": "ipython",
    "version": 3
   },
   "file_extension": ".py",
   "mimetype": "text/x-python",
   "name": "python",
   "nbconvert_exporter": "python",
   "pygments_lexer": "ipython3",
   "version": "3.9.7"
  }
 },
 "nbformat": 4,
 "nbformat_minor": 5
}
